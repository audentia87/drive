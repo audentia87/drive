{
  "nbformat": 4,
  "nbformat_minor": 0,
  "metadata": {
    "colab": {
      "name": "[n132a]_intermediate_linear_algebra .ipynb",
      "provenance": [],
      "collapsed_sections": [],
      "include_colab_link": true
    },
    "kernelspec": {
      "display_name": "Python 3",
      "language": "python",
      "name": "python3"
    },
    "language_info": {
      "codemirror_mode": {
        "name": "ipython",
        "version": 3
      },
      "file_extension": ".py",
      "mimetype": "text/x-python",
      "name": "python",
      "nbconvert_exporter": "python",
      "pygments_lexer": "ipython3",
      "version": "3.8.5"
    }
  },
  "cells": [
    {
      "cell_type": "markdown",
      "metadata": {
        "id": "view-in-github",
        "colab_type": "text"
      },
      "source": [
        "<a href=\"https://colab.research.google.com/github/laprass/drive/blob/main/%5Bn132a%5D_intermediate_linear_algebra_.ipynb\" target=\"_parent\"><img src=\"https://colab.research.google.com/assets/colab-badge.svg\" alt=\"Open In Colab\"/></a>"
      ]
    },
    {
      "cell_type": "markdown",
      "metadata": {
        "id": "GSNiYn8lr6nN"
      },
      "source": [
        "<img src='https://i.imgur.com/RDAD11M.png' width = '200' align = 'right'>\n",
        "\n",
        "## *DATA SCIENCE / SECTION 1 / SPRINT 3 / NOTE 2*\n",
        "\n",
        "# 📝 Assignment\n"
      ]
    },
    {
      "cell_type": "markdown",
      "metadata": {
        "id": "3d4izUhQvh2_"
      },
      "source": [
        "## 1. 주어진 리스트에 대해서 평균, 분산, 표준편차를 구하는 함수를 작성해보세요. (`mean`같은 builtin function 제외)\n",
        "\n",
        "\n",
        "- 이후 다음 데이터 [243, 278, 184, 249, 207] 에 대해서 해당 함수를 사용한 결과를 보이세요."
      ]
    },
    {
      "cell_type": "code",
      "metadata": {
        "id": "gdL4sVcnF2sx"
      },
      "source": [
        "import numpy as np\n",
        "import pandas as pd\n",
        "import matplotlib.pyplot as plt\n",
        "from mpl_toolkits.mplot3d import Axes3D"
      ],
      "execution_count": 16,
      "outputs": []
    },
    {
      "cell_type": "code",
      "metadata": {
        "id": "Sn8RJQw-F2sx"
      },
      "source": [
        "# 평균\n",
        "\n",
        "def mymean(v):\n",
        "    total = 0\n",
        "    for i in v :\n",
        "        total += i\n",
        "    mean = total / len(v)\n",
        "    return mean"
      ],
      "execution_count": 26,
      "outputs": []
    },
    {
      "cell_type": "code",
      "metadata": {
        "colab": {
          "base_uri": "https://localhost:8080/"
        },
        "id": "Kmb9jtozF2sy",
        "outputId": "4d3b1e7c-4079-4144-a8e5-9a583d2c4489"
      },
      "source": [
        "mymean([243, 278, 184, 249, 207])==232.2"
      ],
      "execution_count": 27,
      "outputs": [
        {
          "output_type": "execute_result",
          "data": {
            "text/plain": [
              "True"
            ]
          },
          "metadata": {
            "tags": []
          },
          "execution_count": 27
        }
      ]
    },
    {
      "cell_type": "code",
      "metadata": {
        "id": "6T6OzFNcF2sz"
      },
      "source": [
        "# 분산\n",
        "\n",
        "def myvar(v):\n",
        "    total = 0\n",
        "    for i in v:\n",
        "        total += (i-mymean(v))**2\n",
        "    var = total / len(v)\n",
        "    return var"
      ],
      "execution_count": 28,
      "outputs": []
    },
    {
      "cell_type": "code",
      "metadata": {
        "colab": {
          "base_uri": "https://localhost:8080/"
        },
        "id": "aSyycd9AF2sz",
        "outputId": "a7a0321a-dca0-4cbb-c745-d95450556451"
      },
      "source": [
        "myvar([243, 278, 184, 249, 207])==1090.96"
      ],
      "execution_count": 29,
      "outputs": [
        {
          "output_type": "execute_result",
          "data": {
            "text/plain": [
              "True"
            ]
          },
          "metadata": {
            "tags": []
          },
          "execution_count": 29
        }
      ]
    },
    {
      "cell_type": "code",
      "metadata": {
        "id": "c1RPE_jrF2sz"
      },
      "source": [
        "# 표준편차 \n",
        "\n",
        "def mystd(v):\n",
        "    std = myvar(v)**(1/2)\n",
        "    return std"
      ],
      "execution_count": 30,
      "outputs": []
    },
    {
      "cell_type": "code",
      "metadata": {
        "colab": {
          "base_uri": "https://localhost:8080/"
        },
        "id": "m6NLvcJJF2s0",
        "outputId": "a7c8cbf5-0c35-4dd7-b163-b425622a931f"
      },
      "source": [
        "round(mystd([243, 278, 184, 249, 207]), 3) == 33.030"
      ],
      "execution_count": 31,
      "outputs": [
        {
          "output_type": "execute_result",
          "data": {
            "text/plain": [
              "True"
            ]
          },
          "metadata": {
            "tags": []
          },
          "execution_count": 31
        }
      ]
    },
    {
      "cell_type": "code",
      "metadata": {
        "id": "w1iZfYvBtEA1",
        "colab": {
          "base_uri": "https://localhost:8080/"
        },
        "outputId": "e89df3a0-55c2-49df-d2e7-be5c7a760e40"
      },
      "source": [
        "res1 = mymean([243, 278, 184, 249, 207])\n",
        "res2 = myvar([243, 278, 184, 249, 207])\n",
        "res3 = mystd([243, 278, 184, 249, 207])\n",
        "\n",
        "print('mean = {}, var = {}, std_error= {}'.format(res1,res2,res3))"
      ],
      "execution_count": 32,
      "outputs": [
        {
          "output_type": "stream",
          "text": [
            "mean = 232.2, var = 1090.96, std_error= 33.02968361943541\n"
          ],
          "name": "stdout"
        }
      ]
    },
    {
      "cell_type": "markdown",
      "metadata": {
        "id": "oh63KaOctEp_"
      },
      "source": [
        "## 2. 위에서 사용된 데이터와 다음 데이터의 공분산과, 상관계수를 구해보세요 [88, 89, 83, 112, 104] "
      ]
    },
    {
      "cell_type": "code",
      "metadata": {
        "id": "3hm72GodF2s1"
      },
      "source": [
        "x = [243, 278, 184, 249, 207]\n",
        "y = [88, 89, 83, 112, 104]"
      ],
      "execution_count": 33,
      "outputs": []
    },
    {
      "cell_type": "code",
      "metadata": {
        "colab": {
          "base_uri": "https://localhost:8080/"
        },
        "id": "FQc2sAprF2s1",
        "outputId": "96637cc5-0ee8-48c3-b04b-615349015128"
      },
      "source": [
        "# 공분산\n",
        "# zip 메소드(for문) 참고 : https://ponyozzang.tistory.com/578\n",
        "\n",
        "def cov(v1,v2):\n",
        "    dev = 0\n",
        "    count = 0\n",
        "    for a,b in zip(v1,v2): # zip 기능 너무 좋다.\n",
        "        dev += (a-mymean(v1))*(b-mymean(v2))\n",
        "        count += 1    \n",
        "    fin = dev / count\n",
        "    return fin    \n",
        "\n",
        "# 상관계수\n",
        "\n",
        "def cor(v1,v2):\n",
        "    covar = cov(v1,v2)\n",
        "    xy_var = myvar(v1) * myvar(v2)\n",
        "    fin = covar / (xy_var**(1/2))\n",
        "    return fin\n",
        "\n",
        "print('cov = {}, cor = {}'.format(round(cov(x,y),3), round(cor(x,y),3)))"
      ],
      "execution_count": 34,
      "outputs": [
        {
          "output_type": "stream",
          "text": [
            "cov = 57.36, cor = 0.159\n"
          ],
          "name": "stdout"
        }
      ]
    },
    {
      "cell_type": "code",
      "metadata": {
        "colab": {
          "base_uri": "https://localhost:8080/",
          "height": 35
        },
        "id": "8Kygx1UJF2s1",
        "outputId": "0e48da3b-2fcc-4ce8-ef49-590d7c604408"
      },
      "source": [
        "'''공분산은 numpy와 다르게 나왔다.\n",
        "하지만 공분산 함수와 연계된 상관계수는 numpy와 동일한 값이 나왔다.\n",
        "Why?'''"
      ],
      "execution_count": 35,
      "outputs": [
        {
          "output_type": "execute_result",
          "data": {
            "application/vnd.google.colaboratory.intrinsic+json": {
              "type": "string"
            },
            "text/plain": [
              "'공분산은 numpy와 다르게 나왔다.\\n하지만 공분산 함수와 연계된 상관계수는 numpy와 동일한 값이 나왔다.\\nWhy?'"
            ]
          },
          "metadata": {
            "tags": []
          },
          "execution_count": 35
        }
      ]
    },
    {
      "cell_type": "code",
      "metadata": {
        "colab": {
          "base_uri": "https://localhost:8080/"
        },
        "id": "gAFS_-GVF2s1",
        "outputId": "68055d02-e860-4cf6-f46a-fcf67d1f6847"
      },
      "source": [
        "# numpy 활용\n",
        "\n",
        "res4 = np.cov(x,y)[0,1]       # 공분산\n",
        "res5 = np.corrcoef(x, y)[0,1] # 상관계수\n",
        "\n",
        "print('cov = {}, cor = {} bt numpy'.format(round(res4,3), round(res5,3)))"
      ],
      "execution_count": 36,
      "outputs": [
        {
          "output_type": "stream",
          "text": [
            "cov = 71.7, cor = 0.159 bt numpy\n"
          ],
          "name": "stdout"
        }
      ]
    },
    {
      "cell_type": "markdown",
      "metadata": {
        "id": "86iXLzwM2z8l"
      },
      "source": [
        "## 3. 다음 벡터들의 span과, 이가 의미하는 바를 설명하세요. \n",
        "\n",
        "\\begin{align}\n",
        "g = \\begin{bmatrix} 1 & 3 \\end{bmatrix}\n",
        "\\qquad\n",
        "h = \\begin{bmatrix} 2 & 6 \\end{bmatrix}\n",
        "\\end{align}"
      ]
    },
    {
      "cell_type": "code",
      "metadata": {
        "colab": {
          "base_uri": "https://localhost:8080/",
          "height": 281
        },
        "id": "DdW-PVeAF2s2",
        "outputId": "f93ad529-a1c2-4ebb-d7a9-79a6382ddbc9"
      },
      "source": [
        "plt.xlim(0, 10)          \n",
        "plt.ylim(0, 10)\n",
        "\n",
        "g = [1,3] \n",
        "h = [2,6]\n",
        "\n",
        "axes = plt.gca()\n",
        "x_vals = np.array(axes.get_xlim())\n",
        "y_vals = 0 * x_vals\n",
        "\n",
        "plt.plot(x_vals, y_vals, '--', color = '#0984e3', linewidth = 1)\n",
        "plt.arrow(0, 0, h[0], h[1], linewidth = 3, head_width = .05, head_length = .05, color = '#fdcb6e')\n",
        "plt.arrow(0, 0, g[0], g[1], linewidth = 3, head_width = .05, head_length = .05, color = '#00b894')\n",
        "\n",
        "plt.title(\"Linearly Dependent Vectors\")\n",
        "plt.show()"
      ],
      "execution_count": 37,
      "outputs": [
        {
          "output_type": "display_data",
          "data": {
            "image/png": "[encoded data removed]",
            "text/plain": [
              "<Figure size 432x288 with 1 Axes>"
            ]
          },
          "metadata": {
            "tags": [],
            "needs_background": "light"
          }
        }
      ]
    },
    {
      "cell_type": "code",
      "metadata": {
        "id": "NdtpAhTJF2s2"
      },
      "source": [
        "# 차트에서 보듯이 g와 h는 선형관계에 있다.\n",
        "# 이런 경우 2차원의 매트릭스 조합이지만 SPAN은 1차원(선)만 표현이 가능하다."
      ],
      "execution_count": 38,
      "outputs": []
    },
    {
      "cell_type": "code",
      "metadata": {
        "colab": {
          "base_uri": "https://localhost:8080/"
        },
        "id": "RHJzRc58F2s2",
        "outputId": "07a93462-9b84-497b-b938-9f4a44895566"
      },
      "source": [
        "res6 = np.linalg.matrix_rank(np.array([g,h]))\n",
        "\n",
        "print('numpy로 계산한 결과 g와 h의 span은 {}차원으로 설명할 수 있다.'.format(res6))"
      ],
      "execution_count": 39,
      "outputs": [
        {
          "output_type": "stream",
          "text": [
            "numpy로 계산한 결과 g와 h의 span은 1차원으로 설명할 수 있다.\n"
          ],
          "name": "stdout"
        }
      ]
    },
    {
      "cell_type": "code",
      "metadata": {
        "id": "fNpSjPcOScgH",
        "colab": {
          "base_uri": "https://localhost:8080/"
        },
        "outputId": "e43ab066-c1eb-4f9b-9e5b-7afa39d9ed87"
      },
      "source": [
        "res6 == 1"
      ],
      "execution_count": 40,
      "outputs": [
        {
          "output_type": "execute_result",
          "data": {
            "text/plain": [
              "True"
            ]
          },
          "metadata": {
            "tags": []
          },
          "execution_count": 40
        }
      ]
    },
    {
      "cell_type": "markdown",
      "metadata": {
        "id": "l1deylUj4IHH"
      },
      "source": [
        "## 4. 다음 벡터들의 span과, 이가 의미하는 바를 설명하세요.\n",
        "\n",
        "\\begin{align}\n",
        "l = \\begin{bmatrix} 1 & 2 & 3 \\end{bmatrix}\n",
        "\\qquad\n",
        "m = \\begin{bmatrix} -1 & 0 & 7 \\end{bmatrix}\n",
        "\\qquad\n",
        "n = \\begin{bmatrix} 4 & 8  & 2\\end{bmatrix}\n",
        "\\end{align}"
      ]
    },
    {
      "cell_type": "code",
      "metadata": {
        "id": "udrrpe77F2s3"
      },
      "source": [
        "l = np.array([1,2,3])\n",
        "m = np.array([-1,0,7])\n",
        "n = np.array([4,8,2])"
      ],
      "execution_count": 41,
      "outputs": []
    },
    {
      "cell_type": "code",
      "metadata": {
        "colab": {
          "base_uri": "https://localhost:8080/",
          "height": 248
        },
        "id": "H5YRq2d7F2s3",
        "outputId": "1d2e6abc-5ac0-4508-9c05-368a26375603"
      },
      "source": [
        "# 참고사이트 : http://naver.me/xnKnHV1v\n",
        "\n",
        "import numpy as np\n",
        "import matplotlib.pyplot as plt\n",
        "from mpl_toolkits.mplot3d import Axes3D\n",
        "\n",
        "fig = plt.figure()\n",
        "ax = fig.add_subplot(1, 1, 1, projection = '3d')\n",
        "ax.quiver(0, 0, 0, l[0], l[1], l[2], color ='red', arrow_length_ratio=0.1)\n",
        "ax.text(l[0], l[1], l[2], 'l', size = 15)\n",
        "ax.quiver(0, 0, 0, m[0], m[1], m[2], color ='blue', arrow_length_ratio=0.1)\n",
        "ax.text(m[0], m[1], m[2], 'm', size = 15)\n",
        "ax.quiver(0, 0, 0, n[0], n[1], n[2], color ='orange', arrow_length_ratio=0.1)\n",
        "ax.text(n[0], n[1], n[2], 'n', size = 15)\n",
        "\n",
        "\n",
        "ax.set_xlim(0, 8)\n",
        "ax.set_ylim(0, 8)\n",
        "ax.set_zlim(0, 8)\n",
        "ax.set_xlabel('X')\n",
        "ax.set_ylabel('Y')\n",
        "ax.set_zlabel('Z')\n",
        "ax.view_init(elev=20, azim =5)\n",
        "ax.grid()\n",
        "\n",
        "plt.show()"
      ],
      "execution_count": 42,
      "outputs": [
        {
          "output_type": "display_data",
          "data": {
            "image/png": "[encoded data removed]",
            "text/plain": [
              "<Figure size 432x288 with 1 Axes>"
            ]
          },
          "metadata": {
            "tags": [],
            "needs_background": "light"
          }
        }
      ]
    },
    {
      "cell_type": "code",
      "metadata": {
        "id": "N-GDnITlF2s3"
      },
      "source": [
        "## 3D 차트를 보더라도 3개의 벡터간에 선형관계는 발견되지 않는다."
      ],
      "execution_count": 43,
      "outputs": []
    },
    {
      "cell_type": "code",
      "metadata": {
        "colab": {
          "base_uri": "https://localhost:8080/"
        },
        "id": "8Y8zly5mF2s4",
        "outputId": "7f727f63-1ee6-4b44-9b97-d7f9b3a54403"
      },
      "source": [
        "res7 = np.linalg.matrix_rank(np.array([l,m,n]))\n",
        "\n",
        "print('numpy로 계산한 결과 l,m,n의 span은 {}차원으로 설명할 수 있다.'.format(res7))"
      ],
      "execution_count": 44,
      "outputs": [
        {
          "output_type": "stream",
          "text": [
            "numpy로 계산한 결과 l,m,n의 span은 3차원으로 설명할 수 있다.\n"
          ],
          "name": "stdout"
        }
      ]
    },
    {
      "cell_type": "code",
      "metadata": {
        "id": "NWZ36G8QTMob",
        "colab": {
          "base_uri": "https://localhost:8080/"
        },
        "outputId": "5b50d8e5-b914-4c42-8de8-30783b73ffff"
      },
      "source": [
        "res7 == 3"
      ],
      "execution_count": 45,
      "outputs": [
        {
          "output_type": "execute_result",
          "data": {
            "text/plain": [
              "True"
            ]
          },
          "metadata": {
            "tags": []
          },
          "execution_count": 45
        }
      ]
    },
    {
      "cell_type": "markdown",
      "metadata": {
        "id": "XH-BlPKl5Ofa"
      },
      "source": [
        ""
      ]
    },
    {
      "cell_type": "markdown",
      "metadata": {
        "id": "IpJwt9kw6v8U"
      },
      "source": [
        "## 5. 다음 매트릭스의 rank를 구하세요\n",
        "\n",
        "\\begin{align}\n",
        "P = \\begin{bmatrix} \n",
        "0 & 2 & 5 \\\\\n",
        " 3 & 6 & 12 \\\\\n",
        "3 & 2 & 2\n",
        "\\end{bmatrix}\n",
        "\\end{align}"
      ]
    },
    {
      "cell_type": "code",
      "metadata": {
        "id": "CAzw0q3KTu5d"
      },
      "source": [
        "p = np.array([[0,2,5],[3,6,12],[3,2,2]])\n",
        "\n",
        "res8 = np.linalg.matrix_rank(p)\n",
        "\n",
        "cor_p = round(cor(p[0],p[1]),4)\n",
        "\n",
        "print('1행렬과 2행렬은 {}라는 높은 상관계수가 있다. 따라서 1행과 2행의 선형관계를 의심해 볼 수 있다'.format(cor_p))\n",
        "print('numpy로 계산한 결과 rank는 {}이 아닌 {}이다.'.format(len(p),res8))"
      ],
      "execution_count": null,
      "outputs": []
    },
    {
      "cell_type": "code",
      "metadata": {
        "colab": {
          "base_uri": "https://localhost:8080/",
          "height": 500
        },
        "id": "3R1u3K8YF2s5",
        "outputId": "168a8fa3-d9df-4d6c-db57-94308c0fe7fb"
      },
      "source": [
        "# 참고사이트 : http://naver.me/xnKnHV1v\n",
        "\n",
        "import numpy as np\n",
        "import matplotlib.pyplot as plt\n",
        "from mpl_toolkits.mplot3d import Axes3D\n",
        "\n",
        "print(\"First Basis Vector a\")\n",
        "\n",
        "x1 = input(\"type x coordinate: \")\n",
        "y1 = input(\"type y coordinate: \")\n",
        "z1 = input(\"type z coordinate: \")\n",
        "a = np.array([float(x1), float(y1), float(z1)])\n",
        "\n",
        "\n",
        "print()\n",
        "print(\"Second Basis Vector b\")\n",
        "\n",
        "x2 = input(\"type x coordinate: \")\n",
        "y2 = input(\"type y coordinate: \")\n",
        "z2 = input(\"type z coordinate: \")\n",
        "b = np.array([float(x2), float(y2), float(z2)])\n",
        "\n",
        "\n",
        "print()\n",
        "print(\"Third Basis Vector c\")\n",
        "\n",
        "x3 = input(\"type x coordinate: \")\n",
        "y3 = input(\"type y coordinate: \")\n",
        "z3 = input(\"type z coordinate: \")\n",
        "c = np.array([float(x3), float(y3), float(z3)])\n",
        "\n",
        "fig = plt.figure()\n",
        "ax = fig.add_subplot(1, 1, 1, projection = '3d')\n",
        "ax.quiver(0, 0, 0, a[0], a[1], a[2], color ='red', arrow_length_ratio=0.1)\n",
        "ax.text(a[0], a[1], a[2], 'a', size = 15)\n",
        "ax.quiver(0, 0, 0, b[0], b[1], b[2], color ='blue', arrow_length_ratio=0.1)\n",
        "ax.text(b[0], b[1], b[2], 'b', size = 15)\n",
        "ax.quiver(0, 0, 0, c[0], c[1], c[2], color ='orange', arrow_length_ratio=0.1)\n",
        "ax.text(c[0], c[1], c[2], 'c', size = 15)\n",
        "\n",
        "\n",
        "ax.set_xlim(0, 8)\n",
        "ax.set_ylim(0, 8)\n",
        "ax.set_zlim(0, 8)\n",
        "ax.set_xlabel('X')\n",
        "ax.set_ylabel('Y')\n",
        "ax.set_zlabel('Z')\n",
        "ax.view_init(elev=20, azim =5)\n",
        "ax.grid()\n",
        "\n",
        "plt.show()"
      ],
      "execution_count": 48,
      "outputs": [
        {
          "output_type": "stream",
          "text": [
            "First Basis Vector a\n",
            "type x coordinate: 0\n",
            "type y coordinate: 2\n",
            "type z coordinate: 5\n",
            "\n",
            "Second Basis Vector b\n",
            "type x coordinate: 3\n",
            "type y coordinate: 6\n",
            "type z coordinate: 12\n",
            "\n",
            "Third Basis Vector c\n",
            "type x coordinate: 3\n",
            "type y coordinate: 2\n",
            "type z coordinate: 2\n"
          ],
          "name": "stdout"
        },
        {
          "output_type": "display_data",
          "data": {
            "image/png": "[encoded data removed]",
            "text/plain": [
              "<Figure size 432x288 with 1 Axes>"
            ]
          },
          "metadata": {
            "tags": [],
            "needs_background": "light"
          }
        }
      ]
    },
    {
      "cell_type": "code",
      "metadata": {
        "colab": {
          "base_uri": "https://localhost:8080/"
        },
        "id": "f2QAP9fuF2s5",
        "outputId": "4d74d917-47c1-4a6b-c49b-83bdbc673bec"
      },
      "source": [
        "res8 == 2"
      ],
      "execution_count": 50,
      "outputs": [
        {
          "output_type": "execute_result",
          "data": {
            "text/plain": [
              "True"
            ]
          },
          "metadata": {
            "tags": []
          },
          "execution_count": 50
        }
      ]
    },
    {
      "cell_type": "markdown",
      "metadata": {
        "id": "j6znnEAIT_ru"
      },
      "source": [
        "## Grading\n",
        "\n",
        "이전 과제를 완료했다면, 아래의 코드를 실행하세요.\n",
        "\n"
      ]
    },
    {
      "cell_type": "code",
      "metadata": {
        "id": "gJUasCPIFJFZ"
      },
      "source": [
        "def grade(mymean, myvar, mysd, res1, res2, res3, res4, res5, res6, res7, res8):\n",
        "  score = 0\n",
        "  score += (mymean([243, 278, 184, 249, 207])==232.2)\n",
        "  score += (myvar([243, 278, 184, 249, 207])==1090.96)\n",
        "  score += (round(mystd([243, 278, 184, 249, 207]), 3) == 33.030) # 1\n",
        "  score += (round(res4, 3) == 71.7) # 2-1\n",
        "  score += (round(res5, 3) == 0.159) # 2-2\n",
        "  score += (res6 == 1) # 3\n",
        "  score += (res7 == 3) # 4\n",
        "  score += (res8 == 2) # 5\n",
        "  return score"
      ],
      "execution_count": 51,
      "outputs": []
    },
    {
      "cell_type": "code",
      "metadata": {
        "id": "cFYfu7bRUGOJ",
        "colab": {
          "base_uri": "https://localhost:8080/"
        },
        "outputId": "012fa05c-e43d-4f29-ebf4-ff55f3fce856"
      },
      "source": [
        "grade(mymean, myvar, mystd, res1, res2, res3, res4, res5, res6, res7, res8)"
      ],
      "execution_count": 52,
      "outputs": [
        {
          "output_type": "execute_result",
          "data": {
            "text/plain": [
              "8"
            ]
          },
          "metadata": {
            "tags": []
          },
          "execution_count": 52
        }
      ]
    },
    {
      "cell_type": "markdown",
      "metadata": {
        "id": "TKkrPwRM-Oar"
      },
      "source": [
        "# 🔥 도전과제 \n",
        "\n",
        "주어진 데이터 (x, y)에 대해서 `y = x` 라는 벡터에 대해 projection을 계산하는 함수를 작성하세요. \n",
        "- (x, y) 는 (0, 0) 에서 (x, y)로 가는 벡터라 가정합니다.\n",
        "\n",
        "이후\n",
        "\n",
        "- 입력된 데이터를 파란색 선으로, \n",
        "- `y = x` 라는 벡터를 빨간색 선으로, 마지막으로 \n",
        "- projection 된 선을 녹색 점선(dashed)으로 그래프에 그리세요."
      ]
    },
    {
      "cell_type": "code",
      "metadata": {
        "id": "cp52kZra-ykj"
      },
      "source": [
        "v = np.array([7, 4])\n",
        "\n",
        "xy = np.array([5,5]) # x = y이므로 임의의 2x1행렬인 10,10으로 가정한다.\n",
        "\n",
        "def myProjection(a,b):\n",
        "    size_a = np.linalg.norm(a) # 1) 투영의 주체(=몸)의 벡터의 크기를 구하고\n",
        "    size_b = np.linalg.norm(b) # 2) 투영할 대상(=땅)의 벡터의 크기를 구하고\n",
        "    p_size = (a*b) / size_b    # 3) 투영벡터의 크기를 구해주고\n",
        "    unit_v = b / size_b        # 4) 투영할 대상의 단위 벡터를 구한 후\n",
        "    pro_j = p_size * unit_v    # 5) 투영벡터크기와 단위벡터를 곱해주면 투영된 벡터를 구할 수 있다.\n",
        "    return pro_j\n",
        "\n",
        "vprime = myProjection(v,xy)"
      ],
      "execution_count": 53,
      "outputs": []
    },
    {
      "cell_type": "code",
      "metadata": {
        "colab": {
          "base_uri": "https://localhost:8080/",
          "height": 269
        },
        "id": "nX0hBLVvF2s6",
        "outputId": "cd8a5f14-a479-476e-8957-1bbd5c903459"
      },
      "source": [
        "plt.xlim(0, 10)          \n",
        "plt.ylim(0, 10)\n",
        "\n",
        "axes = plt.gca()\n",
        "x_vals = np.array(axes.get_xlim())\n",
        "y_vals = 0 * x_vals\n",
        "\n",
        "plt.plot(x_vals, y_vals, '--', color = '#0984e3', linewidth = 1)\n",
        "plt.arrow(0, 0, v[0], v[1], linewidth = 3, head_width = .05, head_length = .05, color = 'blue')\n",
        "plt.arrow(0, 0, xy[0], xy[1], linewidth = 3, head_width = .05, head_length = .05, color = 'red')\n",
        "plt.arrow(0, 0, vprime[0], vprime[1], linestyle='dashed',  linewidth = 10, head_width = .1, head_length = .1, color = 'green')\n",
        "\n",
        "plt.show()"
      ],
      "execution_count": 54,
      "outputs": [
        {
          "output_type": "display_data",
          "data": {
            "image/png": "[encoded data removed]",
            "text/plain": [
              "<Figure size 432x288 with 1 Axes>"
            ]
          },
          "metadata": {
            "tags": [],
            "needs_background": "light"
          }
        }
      ]
    }
  ]
}
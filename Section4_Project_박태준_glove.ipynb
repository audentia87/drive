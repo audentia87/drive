{
  "nbformat": 4,
  "nbformat_minor": 5,
  "metadata": {
    "kernelspec": {
      "display_name": "Python 3",
      "language": "python",
      "name": "python3"
    },
    "language_info": {
      "codemirror_mode": {
        "name": "ipython",
        "version": 3
      },
      "file_extension": ".py",
      "mimetype": "text/x-python",
      "name": "python",
      "nbconvert_exporter": "python",
      "pygments_lexer": "ipython3",
      "version": "3.8.10"
    },
    "colab": {
      "name": "Section4-Project-박태준-glove.ipynb",
      "provenance": [],
      "toc_visible": true,
      "include_colab_link": true
    }
  },
  "cells": [
    {
      "cell_type": "markdown",
      "metadata": {
        "id": "view-in-github",
        "colab_type": "text"
      },
      "source": [
        "<a href=\"https://colab.research.google.com/github/laprass/drive/blob/main/Section4_Project_%EB%B0%95%ED%83%9C%EC%A4%80_glove.ipynb\" target=\"_parent\"><img src=\"https://colab.research.google.com/assets/colab-badge.svg\" alt=\"Open In Colab\"/></a>"
      ]
    },
    {
      "cell_type": "markdown",
      "metadata": {
        "id": "1eabed07"
      },
      "source": [
        "##  1. 관심 데이터 선정\n",
        "\n",
        "- 뉴스데이터로 주가변동을 예측 할 수 있을까? (with kaggle)\n",
        "- RNN, LSTM, GRU 같은 자연어 처리 모델로 키워드를 분석하여 익일의 주가를 예측해보자\n",
        "\n",
        "\n",
        "- 분석대상 : 8년 간의 야후 파이낸스 뉴스데이터 (2008-08-08 ~ 2016-07-01)\n",
        "- 예측대상 : 동일한 기간의 다우존스지수 \n",
        "- 분석모델 : LogisticRegression, LSTM\n",
        "\n",
        "- Kaggle URL = https://www.kaggle.com/aaron7sun/stocknews"
      ],
      "id": "1eabed07"
    },
    {
      "cell_type": "markdown",
      "metadata": {
        "id": "15ad6a0e"
      },
      "source": [
        "## 2.  데이터 선정 이유 \n",
        "\n",
        "- 현재 국내 자산운용사는 대부분 퀀트투자 모델을 기반으로 하고 있다.\n",
        "- 하지만 미국 월가 시장처럼 비정형데이터를 기반으로 트레이딩봇 기술을 국내에서도 요구할 것임이 분명하다 판단하였다.\n",
        "- 대표적인 뉴스데이터를 활용한 자연어처리 기술을 이용하여 키워드를 파악하여 향후 주가를 예측해보는 연구를 진행해보겠다."
      ],
      "id": "15ad6a0e"
    },
    {
      "cell_type": "markdown",
      "metadata": {
        "id": "0df95718"
      },
      "source": [
        "## 3. 데이터를 이용한 가설\n",
        "\n",
        "- 가설1 : 주가에 큰 변동성을 가져다줄만한 사건이 일어나고 언론사들은 이것을 보도할 것 이다.\n",
        "- 가설2 : 언론이 보도한 신문기사의 특정 키워드들은 그날 주가가 어떻게 변동할지 예측할 수 있는 단서가 될 것 이다.\n",
        "\n",
        "#### 요약 : 즉, 언론기사의 특정 키워드들이 주가변동과 높은 상관관계가 있을 것이다.   \n",
        "\n",
        "**따라서, 거래소 장시작시 나온 주가와 헤드라인뉴스 정보로 당일 장마감시의 종가를 예측하는 것이 목표**"
      ],
      "id": "0df95718"
    },
    {
      "cell_type": "markdown",
      "metadata": {
        "id": "b0768778"
      },
      "source": [
        "## 4. 데이터 전처리"
      ],
      "id": "b0768778"
    },
    {
      "cell_type": "markdown",
      "metadata": {
        "id": "cb3e2ce7"
      },
      "source": [
        "* **4-1. 데이터 설명**"
      ],
      "id": "cb3e2ce7"
    },
    {
      "cell_type": "code",
      "metadata": {
        "id": "41917e4f",
        "outputId": "03b5a076-5ac3-45fb-f82f-b51700047439"
      },
      "source": [
        "import pandas as pd\n",
        "import numpy as np\n",
        "\n",
        "total_url = 'https://raw.githubusercontent.com/laprass/drive/main/section4_project/total.csv'\n",
        "\n",
        "df = pd.read_csv(total_url)\n",
        "df.head()\n",
        "\n",
        "# 데이터프레임 설명\n",
        "# 1. Date : 날짜\n",
        "# 2. open / high / low / volume : 같은 날짜의 다우지수 데이터\n",
        "# 3. top : 당일 인터넷 언론매체 헤드라인을 중요도 순서대로 top1부터 25개까지 나열\n",
        "# 4. close : 타겟값인 다우지수 당일 종가"
      ],
      "id": "41917e4f",
      "execution_count": null,
      "outputs": [
        {
          "output_type": "execute_result",
          "data": {
            "text/html": [
              "<div>\n",
              "<style scoped>\n",
              "    .dataframe tbody tr th:only-of-type {\n",
              "        vertical-align: middle;\n",
              "    }\n",
              "\n",
              "    .dataframe tbody tr th {\n",
              "        vertical-align: top;\n",
              "    }\n",
              "\n",
              "    .dataframe thead th {\n",
              "        text-align: right;\n",
              "    }\n",
              "</style>\n",
              "<table border=\"1\" class=\"dataframe\">\n",
              "  <thead>\n",
              "    <tr style=\"text-align: right;\">\n",
              "      <th></th>\n",
              "      <th>date</th>\n",
              "      <th>open</th>\n",
              "      <th>high</th>\n",
              "      <th>low</th>\n",
              "      <th>close</th>\n",
              "      <th>volume</th>\n",
              "      <th>top1</th>\n",
              "      <th>top2</th>\n",
              "      <th>top3</th>\n",
              "      <th>top4</th>\n",
              "      <th>...</th>\n",
              "      <th>top16</th>\n",
              "      <th>top17</th>\n",
              "      <th>top18</th>\n",
              "      <th>top19</th>\n",
              "      <th>top20</th>\n",
              "      <th>top21</th>\n",
              "      <th>top22</th>\n",
              "      <th>top23</th>\n",
              "      <th>top24</th>\n",
              "      <th>top25</th>\n",
              "    </tr>\n",
              "  </thead>\n",
              "  <tbody>\n",
              "    <tr>\n",
              "      <th>0</th>\n",
              "      <td>20080808</td>\n",
              "      <td>11432.09</td>\n",
              "      <td>11759.96</td>\n",
              "      <td>11388.04</td>\n",
              "      <td>11734.32</td>\n",
              "      <td>212830000</td>\n",
              "      <td>b\"Georgia 'downs two Russian warplanes' as cou...</td>\n",
              "      <td>b'BREAKING: Musharraf to be impeached.'</td>\n",
              "      <td>b'Russia Today: Columns of troops roll into So...</td>\n",
              "      <td>b'Russian tanks are moving towards the capital...</td>\n",
              "      <td>...</td>\n",
              "      <td>b'Georgia Invades South Ossetia - if Russia ge...</td>\n",
              "      <td>b'Al-Qaeda Faces Islamist Backlash'</td>\n",
              "      <td>b'Condoleezza Rice: \"The US would not act to p...</td>\n",
              "      <td>b'This is a busy day:  The European Union has ...</td>\n",
              "      <td>b\"Georgia will withdraw 1,000 soldiers from Ir...</td>\n",
              "      <td>b'Why the Pentagon Thinks Attacking Iran is a ...</td>\n",
              "      <td>b'Caucasus in crisis: Georgia invades South Os...</td>\n",
              "      <td>b'Indian shoe manufactory  - And again in a se...</td>\n",
              "      <td>b'Visitors Suffering from Mental Illnesses Ban...</td>\n",
              "      <td>b\"No Help for Mexico's Kidnapping Surge\"</td>\n",
              "    </tr>\n",
              "    <tr>\n",
              "      <th>1</th>\n",
              "      <td>20080811</td>\n",
              "      <td>11729.67</td>\n",
              "      <td>11867.11</td>\n",
              "      <td>11675.53</td>\n",
              "      <td>11782.35</td>\n",
              "      <td>183190000</td>\n",
              "      <td>b'Why wont America and Nato help us? If they w...</td>\n",
              "      <td>b'Bush puts foot down on Georgian conflict'</td>\n",
              "      <td>b\"Jewish Georgian minister: Thanks to Israeli ...</td>\n",
              "      <td>b'Georgian army flees in disarray as Russians ...</td>\n",
              "      <td>...</td>\n",
              "      <td>b'Israel and the US behind the Georgian aggres...</td>\n",
              "      <td>b'\"Do not believe TV, neither Russian nor Geor...</td>\n",
              "      <td>b'Riots are still going on in Montreal (Canada...</td>\n",
              "      <td>b'China to overtake US as largest manufacturer'</td>\n",
              "      <td>b'War in South Ossetia [PICS]'</td>\n",
              "      <td>b'Israeli Physicians Group Condemns State Tort...</td>\n",
              "      <td>b' Russia has just beaten the United States ov...</td>\n",
              "      <td>b'Perhaps *the* question about the Georgia - R...</td>\n",
              "      <td>b'Russia is so much better at war'</td>\n",
              "      <td>b\"So this is what it's come to: trading sex fo...</td>\n",
              "    </tr>\n",
              "    <tr>\n",
              "      <th>2</th>\n",
              "      <td>20080812</td>\n",
              "      <td>11781.70</td>\n",
              "      <td>11782.35</td>\n",
              "      <td>11601.52</td>\n",
              "      <td>11642.47</td>\n",
              "      <td>173590000</td>\n",
              "      <td>b'Remember that adorable 9-year-old who sang a...</td>\n",
              "      <td>b\"Russia 'ends Georgia operation'\"</td>\n",
              "      <td>b'\"If we had no sexual harassment we would hav...</td>\n",
              "      <td>b\"Al-Qa'eda is losing support in Iraq because ...</td>\n",
              "      <td>...</td>\n",
              "      <td>b'U.S. troops still in Georgia (did you know t...</td>\n",
              "      <td>b'Why Russias response to Georgia was right'</td>\n",
              "      <td>b'Gorbachev accuses U.S. of making a \"serious ...</td>\n",
              "      <td>b'Russia, Georgia, and NATO: Cold War Two'</td>\n",
              "      <td>b'Remember that adorable 62-year-old who led y...</td>\n",
              "      <td>b'War in Georgia: The Israeli connection'</td>\n",
              "      <td>b'All signs point to the US encouraging Georgi...</td>\n",
              "      <td>b'Christopher King argues that the US and NATO...</td>\n",
              "      <td>b'America: The New Mexico?'</td>\n",
              "      <td>b\"BBC NEWS | Asia-Pacific | Extinction 'by man...</td>\n",
              "    </tr>\n",
              "    <tr>\n",
              "      <th>3</th>\n",
              "      <td>20080813</td>\n",
              "      <td>11632.81</td>\n",
              "      <td>11633.78</td>\n",
              "      <td>11453.34</td>\n",
              "      <td>11532.96</td>\n",
              "      <td>182550000</td>\n",
              "      <td>b' U.S. refuses Israel weapons to attack Iran:...</td>\n",
              "      <td>b\"When the president ordered to attack Tskhinv...</td>\n",
              "      <td>b' Israel clears troops who killed Reuters cam...</td>\n",
              "      <td>b'Britain\\'s policy of being tough on drugs is...</td>\n",
              "      <td>...</td>\n",
              "      <td>b'Elephants extinct by 2020?'</td>\n",
              "      <td>b'US humanitarian missions soon in Georgia - i...</td>\n",
              "      <td>b\"Georgia's DDOS came from US sources\"</td>\n",
              "      <td>b'Russian convoy heads into Georgia, violating...</td>\n",
              "      <td>b'Israeli defence minister: US against strike ...</td>\n",
              "      <td>b'Gorbachev: We Had No Choice'</td>\n",
              "      <td>b'Witness: Russian forces head towards Tbilisi...</td>\n",
              "      <td>b' Quarter of Russians blame U.S. for conflict...</td>\n",
              "      <td>b'Georgian president  says US military will ta...</td>\n",
              "      <td>b'2006: Nobel laureate Aleksander Solzhenitsyn...</td>\n",
              "    </tr>\n",
              "    <tr>\n",
              "      <th>4</th>\n",
              "      <td>20080814</td>\n",
              "      <td>11532.07</td>\n",
              "      <td>11718.28</td>\n",
              "      <td>11450.89</td>\n",
              "      <td>11615.93</td>\n",
              "      <td>159790000</td>\n",
              "      <td>b'All the experts admit that we should legalis...</td>\n",
              "      <td>b'War in South Osetia - 89 pictures made by a ...</td>\n",
              "      <td>b'Swedish wrestler Ara Abrahamian throws away ...</td>\n",
              "      <td>b'Russia exaggerated the death toll in South O...</td>\n",
              "      <td>...</td>\n",
              "      <td>b'Bank analyst forecast Georgian crisis 2 days...</td>\n",
              "      <td>b\"Georgia confict could set back Russia's US r...</td>\n",
              "      <td>b'War in the Caucasus is as much the product o...</td>\n",
              "      <td>b'\"Non-media\" photos of South Ossetia/Georgia ...</td>\n",
              "      <td>b'Georgian TV reporter shot by Russian sniper ...</td>\n",
              "      <td>b'Saudi Arabia: Mother moves to block child ma...</td>\n",
              "      <td>b'Taliban wages war on humanitarian aid workers'</td>\n",
              "      <td>b'Russia: World  \"can forget about\" Georgia\\'s...</td>\n",
              "      <td>b'Darfur rebels accuse Sudan of mounting major...</td>\n",
              "      <td>b'Philippines : Peace Advocate say Muslims nee...</td>\n",
              "    </tr>\n",
              "  </tbody>\n",
              "</table>\n",
              "<p>5 rows × 31 columns</p>\n",
              "</div>"
            ],
            "text/plain": [
              "       date      open      high       low     close     volume  \\\n",
              "0  20080808  11432.09  11759.96  11388.04  11734.32  212830000   \n",
              "1  20080811  11729.67  11867.11  11675.53  11782.35  183190000   \n",
              "2  20080812  11781.70  11782.35  11601.52  11642.47  173590000   \n",
              "3  20080813  11632.81  11633.78  11453.34  11532.96  182550000   \n",
              "4  20080814  11532.07  11718.28  11450.89  11615.93  159790000   \n",
              "\n",
              "                                                top1  \\\n",
              "0  b\"Georgia 'downs two Russian warplanes' as cou...   \n",
              "1  b'Why wont America and Nato help us? If they w...   \n",
              "2  b'Remember that adorable 9-year-old who sang a...   \n",
              "3  b' U.S. refuses Israel weapons to attack Iran:...   \n",
              "4  b'All the experts admit that we should legalis...   \n",
              "\n",
              "                                                top2  \\\n",
              "0            b'BREAKING: Musharraf to be impeached.'   \n",
              "1        b'Bush puts foot down on Georgian conflict'   \n",
              "2                 b\"Russia 'ends Georgia operation'\"   \n",
              "3  b\"When the president ordered to attack Tskhinv...   \n",
              "4  b'War in South Osetia - 89 pictures made by a ...   \n",
              "\n",
              "                                                top3  \\\n",
              "0  b'Russia Today: Columns of troops roll into So...   \n",
              "1  b\"Jewish Georgian minister: Thanks to Israeli ...   \n",
              "2  b'\"If we had no sexual harassment we would hav...   \n",
              "3  b' Israel clears troops who killed Reuters cam...   \n",
              "4  b'Swedish wrestler Ara Abrahamian throws away ...   \n",
              "\n",
              "                                                top4  ...  \\\n",
              "0  b'Russian tanks are moving towards the capital...  ...   \n",
              "1  b'Georgian army flees in disarray as Russians ...  ...   \n",
              "2  b\"Al-Qa'eda is losing support in Iraq because ...  ...   \n",
              "3  b'Britain\\'s policy of being tough on drugs is...  ...   \n",
              "4  b'Russia exaggerated the death toll in South O...  ...   \n",
              "\n",
              "                                               top16  \\\n",
              "0  b'Georgia Invades South Ossetia - if Russia ge...   \n",
              "1  b'Israel and the US behind the Georgian aggres...   \n",
              "2  b'U.S. troops still in Georgia (did you know t...   \n",
              "3                      b'Elephants extinct by 2020?'   \n",
              "4  b'Bank analyst forecast Georgian crisis 2 days...   \n",
              "\n",
              "                                               top17  \\\n",
              "0                b'Al-Qaeda Faces Islamist Backlash'   \n",
              "1  b'\"Do not believe TV, neither Russian nor Geor...   \n",
              "2       b'Why Russias response to Georgia was right'   \n",
              "3  b'US humanitarian missions soon in Georgia - i...   \n",
              "4  b\"Georgia confict could set back Russia's US r...   \n",
              "\n",
              "                                               top18  \\\n",
              "0  b'Condoleezza Rice: \"The US would not act to p...   \n",
              "1  b'Riots are still going on in Montreal (Canada...   \n",
              "2  b'Gorbachev accuses U.S. of making a \"serious ...   \n",
              "3             b\"Georgia's DDOS came from US sources\"   \n",
              "4  b'War in the Caucasus is as much the product o...   \n",
              "\n",
              "                                               top19  \\\n",
              "0  b'This is a busy day:  The European Union has ...   \n",
              "1    b'China to overtake US as largest manufacturer'   \n",
              "2         b'Russia, Georgia, and NATO: Cold War Two'   \n",
              "3  b'Russian convoy heads into Georgia, violating...   \n",
              "4  b'\"Non-media\" photos of South Ossetia/Georgia ...   \n",
              "\n",
              "                                               top20  \\\n",
              "0  b\"Georgia will withdraw 1,000 soldiers from Ir...   \n",
              "1                     b'War in South Ossetia [PICS]'   \n",
              "2  b'Remember that adorable 62-year-old who led y...   \n",
              "3  b'Israeli defence minister: US against strike ...   \n",
              "4  b'Georgian TV reporter shot by Russian sniper ...   \n",
              "\n",
              "                                               top21  \\\n",
              "0  b'Why the Pentagon Thinks Attacking Iran is a ...   \n",
              "1  b'Israeli Physicians Group Condemns State Tort...   \n",
              "2          b'War in Georgia: The Israeli connection'   \n",
              "3                     b'Gorbachev: We Had No Choice'   \n",
              "4  b'Saudi Arabia: Mother moves to block child ma...   \n",
              "\n",
              "                                               top22  \\\n",
              "0  b'Caucasus in crisis: Georgia invades South Os...   \n",
              "1  b' Russia has just beaten the United States ov...   \n",
              "2  b'All signs point to the US encouraging Georgi...   \n",
              "3  b'Witness: Russian forces head towards Tbilisi...   \n",
              "4   b'Taliban wages war on humanitarian aid workers'   \n",
              "\n",
              "                                               top23  \\\n",
              "0  b'Indian shoe manufactory  - And again in a se...   \n",
              "1  b'Perhaps *the* question about the Georgia - R...   \n",
              "2  b'Christopher King argues that the US and NATO...   \n",
              "3  b' Quarter of Russians blame U.S. for conflict...   \n",
              "4  b'Russia: World  \"can forget about\" Georgia\\'s...   \n",
              "\n",
              "                                               top24  \\\n",
              "0  b'Visitors Suffering from Mental Illnesses Ban...   \n",
              "1                 b'Russia is so much better at war'   \n",
              "2                        b'America: The New Mexico?'   \n",
              "3  b'Georgian president  says US military will ta...   \n",
              "4  b'Darfur rebels accuse Sudan of mounting major...   \n",
              "\n",
              "                                               top25  \n",
              "0           b\"No Help for Mexico's Kidnapping Surge\"  \n",
              "1  b\"So this is what it's come to: trading sex fo...  \n",
              "2  b\"BBC NEWS | Asia-Pacific | Extinction 'by man...  \n",
              "3  b'2006: Nobel laureate Aleksander Solzhenitsyn...  \n",
              "4  b'Philippines : Peace Advocate say Muslims nee...  \n",
              "\n",
              "[5 rows x 31 columns]"
            ]
          },
          "metadata": {
            "tags": []
          },
          "execution_count": 1
        }
      ]
    },
    {
      "cell_type": "code",
      "metadata": {
        "id": "4d8558bf",
        "outputId": "3c139775-ba7b-4a9d-96fa-7d8ff6dd895c"
      },
      "source": [
        "# 날짜데이터는 Datetime 타입으로 변경\n",
        "df['date'] = df['date'].astype('str')\n",
        "df['date'] = pd.to_datetime(df['date'])\n",
        "\n",
        "# 주가데이터를 시각화\n",
        "import matplotlib.pyplot as plt\n",
        "import seaborn as sns\n",
        "\n",
        "plt.figure(figsize=(8, 4))\n",
        "sns.lineplot(y=df['close'], x=df['date'])\n",
        "plt.xlabel('time')\n",
        "plt.ylabel('price')\n",
        "plt.show()"
      ],
      "id": "4d8558bf",
      "execution_count": null,
      "outputs": [
        {
          "output_type": "display_data",
          "data": {
            "image/png": "[encoded data removed]",
            "text/plain": [
              "<Figure size 576x288 with 1 Axes>"
            ]
          },
          "metadata": {
            "tags": [],
            "needs_background": "light"
          }
        }
      ]
    },
    {
      "cell_type": "markdown",
      "metadata": {
        "id": "385b240b"
      },
      "source": [
        "* **4-2. 데이터를 머신러닝 연산에 맞게 전처리 합니다.**"
      ],
      "id": "385b240b"
    },
    {
      "cell_type": "markdown",
      "metadata": {
        "id": "4b333c4c"
      },
      "source": [
        "저는 주가변화량을 예측하는 것이 목표이기 때문에, 주가변화량을 계산하고 불필요한 특성들은 제거하였습니다."
      ],
      "id": "4b333c4c"
    },
    {
      "cell_type": "code",
      "metadata": {
        "id": "14bf618e",
        "outputId": "f99c8314-d6d8-4b47-c6a3-130e34bd5085"
      },
      "source": [
        "from sklearn.preprocessing import MinMaxScaler\n",
        "\n",
        "scaler = MinMaxScaler()\n",
        "scale_cols = ['open','close','low','high']\n",
        "df[scale_cols] = scaler.fit_transform(df[scale_cols])\n",
        "\n",
        "df.loc[0:2]"
      ],
      "id": "14bf618e",
      "execution_count": null,
      "outputs": [
        {
          "output_type": "execute_result",
          "data": {
            "text/html": [
              "<div>\n",
              "<style scoped>\n",
              "    .dataframe tbody tr th:only-of-type {\n",
              "        vertical-align: middle;\n",
              "    }\n",
              "\n",
              "    .dataframe tbody tr th {\n",
              "        vertical-align: top;\n",
              "    }\n",
              "\n",
              "    .dataframe thead th {\n",
              "        text-align: right;\n",
              "    }\n",
              "</style>\n",
              "<table border=\"1\" class=\"dataframe\">\n",
              "  <thead>\n",
              "    <tr style=\"text-align: right;\">\n",
              "      <th></th>\n",
              "      <th>date</th>\n",
              "      <th>open</th>\n",
              "      <th>high</th>\n",
              "      <th>low</th>\n",
              "      <th>close</th>\n",
              "      <th>volume</th>\n",
              "      <th>top1</th>\n",
              "      <th>top2</th>\n",
              "      <th>top3</th>\n",
              "      <th>top4</th>\n",
              "      <th>...</th>\n",
              "      <th>top16</th>\n",
              "      <th>top17</th>\n",
              "      <th>top18</th>\n",
              "      <th>top19</th>\n",
              "      <th>top20</th>\n",
              "      <th>top21</th>\n",
              "      <th>top22</th>\n",
              "      <th>top23</th>\n",
              "      <th>top24</th>\n",
              "      <th>top25</th>\n",
              "    </tr>\n",
              "  </thead>\n",
              "  <tbody>\n",
              "    <tr>\n",
              "      <th>0</th>\n",
              "      <td>2008-08-08</td>\n",
              "      <td>0.415114</td>\n",
              "      <td>0.433814</td>\n",
              "      <td>0.416695</td>\n",
              "      <td>0.440894</td>\n",
              "      <td>212830000</td>\n",
              "      <td>b\"Georgia 'downs two Russian warplanes' as cou...</td>\n",
              "      <td>b'BREAKING: Musharraf to be impeached.'</td>\n",
              "      <td>b'Russia Today: Columns of troops roll into So...</td>\n",
              "      <td>b'Russian tanks are moving towards the capital...</td>\n",
              "      <td>...</td>\n",
              "      <td>b'Georgia Invades South Ossetia - if Russia ge...</td>\n",
              "      <td>b'Al-Qaeda Faces Islamist Backlash'</td>\n",
              "      <td>b'Condoleezza Rice: \"The US would not act to p...</td>\n",
              "      <td>b'This is a busy day:  The European Union has ...</td>\n",
              "      <td>b\"Georgia will withdraw 1,000 soldiers from Ir...</td>\n",
              "      <td>b'Why the Pentagon Thinks Attacking Iran is a ...</td>\n",
              "      <td>b'Caucasus in crisis: Georgia invades South Os...</td>\n",
              "      <td>b'Indian shoe manufactory  - And again in a se...</td>\n",
              "      <td>b'Visitors Suffering from Mental Illnesses Ban...</td>\n",
              "      <td>b\"No Help for Mexico's Kidnapping Surge\"</td>\n",
              "    </tr>\n",
              "    <tr>\n",
              "      <th>1</th>\n",
              "      <td>2008-08-11</td>\n",
              "      <td>0.440401</td>\n",
              "      <td>0.443018</td>\n",
              "      <td>0.441053</td>\n",
              "      <td>0.444977</td>\n",
              "      <td>183190000</td>\n",
              "      <td>b'Why wont America and Nato help us? If they w...</td>\n",
              "      <td>b'Bush puts foot down on Georgian conflict'</td>\n",
              "      <td>b\"Jewish Georgian minister: Thanks to Israeli ...</td>\n",
              "      <td>b'Georgian army flees in disarray as Russians ...</td>\n",
              "      <td>...</td>\n",
              "      <td>b'Israel and the US behind the Georgian aggres...</td>\n",
              "      <td>b'\"Do not believe TV, neither Russian nor Geor...</td>\n",
              "      <td>b'Riots are still going on in Montreal (Canada...</td>\n",
              "      <td>b'China to overtake US as largest manufacturer'</td>\n",
              "      <td>b'War in South Ossetia [PICS]'</td>\n",
              "      <td>b'Israeli Physicians Group Condemns State Tort...</td>\n",
              "      <td>b' Russia has just beaten the United States ov...</td>\n",
              "      <td>b'Perhaps *the* question about the Georgia - R...</td>\n",
              "      <td>b'Russia is so much better at war'</td>\n",
              "      <td>b\"So this is what it's come to: trading sex fo...</td>\n",
              "    </tr>\n",
              "    <tr>\n",
              "      <th>2</th>\n",
              "      <td>2008-08-12</td>\n",
              "      <td>0.444822</td>\n",
              "      <td>0.435737</td>\n",
              "      <td>0.434783</td>\n",
              "      <td>0.433087</td>\n",
              "      <td>173590000</td>\n",
              "      <td>b'Remember that adorable 9-year-old who sang a...</td>\n",
              "      <td>b\"Russia 'ends Georgia operation'\"</td>\n",
              "      <td>b'\"If we had no sexual harassment we would hav...</td>\n",
              "      <td>b\"Al-Qa'eda is losing support in Iraq because ...</td>\n",
              "      <td>...</td>\n",
              "      <td>b'U.S. troops still in Georgia (did you know t...</td>\n",
              "      <td>b'Why Russias response to Georgia was right'</td>\n",
              "      <td>b'Gorbachev accuses U.S. of making a \"serious ...</td>\n",
              "      <td>b'Russia, Georgia, and NATO: Cold War Two'</td>\n",
              "      <td>b'Remember that adorable 62-year-old who led y...</td>\n",
              "      <td>b'War in Georgia: The Israeli connection'</td>\n",
              "      <td>b'All signs point to the US encouraging Georgi...</td>\n",
              "      <td>b'Christopher King argues that the US and NATO...</td>\n",
              "      <td>b'America: The New Mexico?'</td>\n",
              "      <td>b\"BBC NEWS | Asia-Pacific | Extinction 'by man...</td>\n",
              "    </tr>\n",
              "  </tbody>\n",
              "</table>\n",
              "<p>3 rows × 31 columns</p>\n",
              "</div>"
            ],
            "text/plain": [
              "        date      open      high       low     close     volume  \\\n",
              "0 2008-08-08  0.415114  0.433814  0.416695  0.440894  212830000   \n",
              "1 2008-08-11  0.440401  0.443018  0.441053  0.444977  183190000   \n",
              "2 2008-08-12  0.444822  0.435737  0.434783  0.433087  173590000   \n",
              "\n",
              "                                                top1  \\\n",
              "0  b\"Georgia 'downs two Russian warplanes' as cou...   \n",
              "1  b'Why wont America and Nato help us? If they w...   \n",
              "2  b'Remember that adorable 9-year-old who sang a...   \n",
              "\n",
              "                                          top2  \\\n",
              "0      b'BREAKING: Musharraf to be impeached.'   \n",
              "1  b'Bush puts foot down on Georgian conflict'   \n",
              "2           b\"Russia 'ends Georgia operation'\"   \n",
              "\n",
              "                                                top3  \\\n",
              "0  b'Russia Today: Columns of troops roll into So...   \n",
              "1  b\"Jewish Georgian minister: Thanks to Israeli ...   \n",
              "2  b'\"If we had no sexual harassment we would hav...   \n",
              "\n",
              "                                                top4  ...  \\\n",
              "0  b'Russian tanks are moving towards the capital...  ...   \n",
              "1  b'Georgian army flees in disarray as Russians ...  ...   \n",
              "2  b\"Al-Qa'eda is losing support in Iraq because ...  ...   \n",
              "\n",
              "                                               top16  \\\n",
              "0  b'Georgia Invades South Ossetia - if Russia ge...   \n",
              "1  b'Israel and the US behind the Georgian aggres...   \n",
              "2  b'U.S. troops still in Georgia (did you know t...   \n",
              "\n",
              "                                               top17  \\\n",
              "0                b'Al-Qaeda Faces Islamist Backlash'   \n",
              "1  b'\"Do not believe TV, neither Russian nor Geor...   \n",
              "2       b'Why Russias response to Georgia was right'   \n",
              "\n",
              "                                               top18  \\\n",
              "0  b'Condoleezza Rice: \"The US would not act to p...   \n",
              "1  b'Riots are still going on in Montreal (Canada...   \n",
              "2  b'Gorbachev accuses U.S. of making a \"serious ...   \n",
              "\n",
              "                                               top19  \\\n",
              "0  b'This is a busy day:  The European Union has ...   \n",
              "1    b'China to overtake US as largest manufacturer'   \n",
              "2         b'Russia, Georgia, and NATO: Cold War Two'   \n",
              "\n",
              "                                               top20  \\\n",
              "0  b\"Georgia will withdraw 1,000 soldiers from Ir...   \n",
              "1                     b'War in South Ossetia [PICS]'   \n",
              "2  b'Remember that adorable 62-year-old who led y...   \n",
              "\n",
              "                                               top21  \\\n",
              "0  b'Why the Pentagon Thinks Attacking Iran is a ...   \n",
              "1  b'Israeli Physicians Group Condemns State Tort...   \n",
              "2          b'War in Georgia: The Israeli connection'   \n",
              "\n",
              "                                               top22  \\\n",
              "0  b'Caucasus in crisis: Georgia invades South Os...   \n",
              "1  b' Russia has just beaten the United States ov...   \n",
              "2  b'All signs point to the US encouraging Georgi...   \n",
              "\n",
              "                                               top23  \\\n",
              "0  b'Indian shoe manufactory  - And again in a se...   \n",
              "1  b'Perhaps *the* question about the Georgia - R...   \n",
              "2  b'Christopher King argues that the US and NATO...   \n",
              "\n",
              "                                               top24  \\\n",
              "0  b'Visitors Suffering from Mental Illnesses Ban...   \n",
              "1                 b'Russia is so much better at war'   \n",
              "2                        b'America: The New Mexico?'   \n",
              "\n",
              "                                               top25  \n",
              "0           b\"No Help for Mexico's Kidnapping Surge\"  \n",
              "1  b\"So this is what it's come to: trading sex fo...  \n",
              "2  b\"BBC NEWS | Asia-Pacific | Extinction 'by man...  \n",
              "\n",
              "[3 rows x 31 columns]"
            ]
          },
          "metadata": {
            "tags": []
          },
          "execution_count": 3
        }
      ]
    },
    {
      "cell_type": "code",
      "metadata": {
        "id": "efe98ad2",
        "outputId": "35514b36-04c0-424c-9447-201bd69900ef"
      },
      "source": [
        "# 주가변화량을 계산하여 특성을 추가합니다.\n",
        "df['price'] = df['open']-df['close']\n",
        "\n",
        "# 변화량을 제외한 불필요한 주가데이터를 제거합니다.\n",
        "df = df.drop(['open','high','low','close','volume'],axis=1)\n",
        "\n",
        "# 결측치를 확인해봅니다.\n",
        "df.isnull().sum()"
      ],
      "id": "efe98ad2",
      "execution_count": null,
      "outputs": [
        {
          "output_type": "execute_result",
          "data": {
            "text/plain": [
              "date     0\n",
              "top1     0\n",
              "top2     0\n",
              "top3     0\n",
              "top4     0\n",
              "top5     0\n",
              "top6     0\n",
              "top7     0\n",
              "top8     0\n",
              "top9     0\n",
              "top10    0\n",
              "top11    0\n",
              "top12    0\n",
              "top13    0\n",
              "top14    0\n",
              "top15    0\n",
              "top16    0\n",
              "top17    0\n",
              "top18    0\n",
              "top19    0\n",
              "top20    0\n",
              "top21    0\n",
              "top22    0\n",
              "top23    1\n",
              "top24    3\n",
              "top25    3\n",
              "price    0\n",
              "dtype: int64"
            ]
          },
          "metadata": {
            "tags": []
          },
          "execution_count": 4
        }
      ]
    },
    {
      "cell_type": "code",
      "metadata": {
        "id": "8843b98f",
        "outputId": "8bd10845-1642-4ba8-fb6a-645a057b04e9"
      },
      "source": [
        "# top23-25는 후순위 뉴스데이터이므로 불필요하다고 판단하여 제거합시다.\n",
        "df = df.drop(['top23','top24','top25'], axis=1)\n",
        "df.isnull().sum()"
      ],
      "id": "8843b98f",
      "execution_count": null,
      "outputs": [
        {
          "output_type": "execute_result",
          "data": {
            "text/plain": [
              "date     0\n",
              "top1     0\n",
              "top2     0\n",
              "top3     0\n",
              "top4     0\n",
              "top5     0\n",
              "top6     0\n",
              "top7     0\n",
              "top8     0\n",
              "top9     0\n",
              "top10    0\n",
              "top11    0\n",
              "top12    0\n",
              "top13    0\n",
              "top14    0\n",
              "top15    0\n",
              "top16    0\n",
              "top17    0\n",
              "top18    0\n",
              "top19    0\n",
              "top20    0\n",
              "top21    0\n",
              "top22    0\n",
              "price    0\n",
              "dtype: int64"
            ]
          },
          "metadata": {
            "tags": []
          },
          "execution_count": 4
        }
      ]
    },
    {
      "cell_type": "markdown",
      "metadata": {
        "id": "e1bcec69"
      },
      "source": [
        " 1~22개로 쪼개진 헤드라인 뉴스를 날짜에 맞춰 하나로 모읍니다.\n",
        " \n",
        " 불필요해진 나머지 뉴스데이터는 제거해줍니다."
      ],
      "id": "e1bcec69"
    },
    {
      "cell_type": "code",
      "metadata": {
        "id": "fa082202"
      },
      "source": [
        "df['news_1'] = df['top1']+df['top2']+df['top3']+df['top4']+df['top5']+df['top6']+df['top7']+df['top8']\n",
        "df['news_2'] = df['top9']+df['top10']+df['top11']+df['top12']+df['top13']+df['top14']+df['top15']+df['top16']\n",
        "df['news_3'] = df['top17']+df['top18']+df['top19']+df['top20']+df['top21']+df['top22']\n",
        "\n",
        "df['news'] = df['news_1']+df['news_2']+df['news_3'] "
      ],
      "id": "fa082202",
      "execution_count": null,
      "outputs": []
    },
    {
      "cell_type": "code",
      "metadata": {
        "id": "13d6ee13",
        "outputId": "ddc5d12d-8520-47a8-aff5-035e9f7ce161"
      },
      "source": [
        "df = df[['date','price','news']]\n",
        "df"
      ],
      "id": "13d6ee13",
      "execution_count": null,
      "outputs": [
        {
          "output_type": "execute_result",
          "data": {
            "text/html": [
              "<div>\n",
              "<style scoped>\n",
              "    .dataframe tbody tr th:only-of-type {\n",
              "        vertical-align: middle;\n",
              "    }\n",
              "\n",
              "    .dataframe tbody tr th {\n",
              "        vertical-align: top;\n",
              "    }\n",
              "\n",
              "    .dataframe thead th {\n",
              "        text-align: right;\n",
              "    }\n",
              "</style>\n",
              "<table border=\"1\" class=\"dataframe\">\n",
              "  <thead>\n",
              "    <tr style=\"text-align: right;\">\n",
              "      <th></th>\n",
              "      <th>date</th>\n",
              "      <th>price</th>\n",
              "      <th>news</th>\n",
              "    </tr>\n",
              "  </thead>\n",
              "  <tbody>\n",
              "    <tr>\n",
              "      <th>0</th>\n",
              "      <td>2008-08-08</td>\n",
              "      <td>-0.025780</td>\n",
              "      <td>b\"Georgia 'downs two Russian warplanes' as cou...</td>\n",
              "    </tr>\n",
              "    <tr>\n",
              "      <th>1</th>\n",
              "      <td>2008-08-11</td>\n",
              "      <td>-0.004576</td>\n",
              "      <td>b'Why wont America and Nato help us? If they w...</td>\n",
              "    </tr>\n",
              "    <tr>\n",
              "      <th>2</th>\n",
              "      <td>2008-08-12</td>\n",
              "      <td>0.011735</td>\n",
              "      <td>b'Remember that adorable 9-year-old who sang a...</td>\n",
              "    </tr>\n",
              "    <tr>\n",
              "      <th>3</th>\n",
              "      <td>2008-08-13</td>\n",
              "      <td>0.008391</td>\n",
              "      <td>b' U.S. refuses Israel weapons to attack Iran:...</td>\n",
              "    </tr>\n",
              "    <tr>\n",
              "      <th>4</th>\n",
              "      <td>2008-08-14</td>\n",
              "      <td>-0.007222</td>\n",
              "      <td>b'All the experts admit that we should legalis...</td>\n",
              "    </tr>\n",
              "    <tr>\n",
              "      <th>...</th>\n",
              "      <td>...</td>\n",
              "      <td>...</td>\n",
              "      <td>...</td>\n",
              "    </tr>\n",
              "    <tr>\n",
              "      <th>1983</th>\n",
              "      <td>2016-06-27</td>\n",
              "      <td>0.018063</td>\n",
              "      <td>Barclays and RBS shares suspended from trading...</td>\n",
              "    </tr>\n",
              "    <tr>\n",
              "      <th>1984</th>\n",
              "      <td>2016-06-28</td>\n",
              "      <td>-0.018837</td>\n",
              "      <td>2,500 Scientists To Australia: If You Want To ...</td>\n",
              "    </tr>\n",
              "    <tr>\n",
              "      <th>1985</th>\n",
              "      <td>2016-06-29</td>\n",
              "      <td>-0.020495</td>\n",
              "      <td>Explosion At Airport In IstanbulYemeni former ...</td>\n",
              "    </tr>\n",
              "    <tr>\n",
              "      <th>1986</th>\n",
              "      <td>2016-06-30</td>\n",
              "      <td>-0.018679</td>\n",
              "      <td>Jamaica proposes marijuana dispensers for tour...</td>\n",
              "    </tr>\n",
              "    <tr>\n",
              "      <th>1987</th>\n",
              "      <td>2016-07-01</td>\n",
              "      <td>-0.002355</td>\n",
              "      <td>A 117-year-old woman in Mexico City finally re...</td>\n",
              "    </tr>\n",
              "  </tbody>\n",
              "</table>\n",
              "<p>1988 rows × 3 columns</p>\n",
              "</div>"
            ],
            "text/plain": [
              "           date     price                                               news\n",
              "0    2008-08-08 -0.025780  b\"Georgia 'downs two Russian warplanes' as cou...\n",
              "1    2008-08-11 -0.004576  b'Why wont America and Nato help us? If they w...\n",
              "2    2008-08-12  0.011735  b'Remember that adorable 9-year-old who sang a...\n",
              "3    2008-08-13  0.008391  b' U.S. refuses Israel weapons to attack Iran:...\n",
              "4    2008-08-14 -0.007222  b'All the experts admit that we should legalis...\n",
              "...         ...       ...                                                ...\n",
              "1983 2016-06-27  0.018063  Barclays and RBS shares suspended from trading...\n",
              "1984 2016-06-28 -0.018837  2,500 Scientists To Australia: If You Want To ...\n",
              "1985 2016-06-29 -0.020495  Explosion At Airport In IstanbulYemeni former ...\n",
              "1986 2016-06-30 -0.018679  Jamaica proposes marijuana dispensers for tour...\n",
              "1987 2016-07-01 -0.002355  A 117-year-old woman in Mexico City finally re...\n",
              "\n",
              "[1988 rows x 3 columns]"
            ]
          },
          "metadata": {
            "tags": []
          },
          "execution_count": 7
        }
      ]
    },
    {
      "cell_type": "markdown",
      "metadata": {
        "id": "9ee8e605"
      },
      "source": [
        "* **4-3. 뉴스데이터를 숫자데이터(벡터화)로 변경합니다.**"
      ],
      "id": "9ee8e605"
    },
    {
      "cell_type": "markdown",
      "metadata": {
        "id": "66b07d89"
      },
      "source": [
        "이렇게 사람의 언어로 표현된 문자들은 머신러닝이 연산할 수 없습니다.\n",
        "\n",
        "따라서 문자를 행렬조합으로 변경해줄 필요가 있습니다.\n",
        "\n",
        "먼저 지금까지 전처리된 뉴스데이터가 어떤 형태를 보이는지 알아봅시다."
      ],
      "id": "66b07d89"
    },
    {
      "cell_type": "code",
      "metadata": {
        "id": "1d82743e",
        "outputId": "a23d7c4f-101e-4477-b1a4-265c62a31ee2"
      },
      "source": [
        "df['news'][0]"
      ],
      "id": "1d82743e",
      "execution_count": null,
      "outputs": [
        {
          "output_type": "execute_result",
          "data": {
            "text/plain": [
              "'b\"Georgia \\'downs two Russian warplanes\\' as countries move to brink of war\"b\\'BREAKING: Musharraf to be impeached.\\'b\\'Russia Today: Columns of troops roll into South Ossetia; footage from fighting (YouTube)\\'b\\'Russian tanks are moving towards the capital of South Ossetia, which has reportedly been completely destroyed by Georgian artillery fire\\'b\"Afghan children raped with \\'impunity,\\' U.N. official says - this is sick, a three year old was raped and they do nothing\"b\\'150 Russian tanks have entered South Ossetia whilst Georgia shoots down two Russian jets.\\'b\"Breaking: Georgia invades South Ossetia, Russia warned it would intervene on SO\\'s side\"b\"The \\'enemy combatent\\' trials are nothing but a sham: Salim Haman has been sentenced to 5 1/2 years, but will be kept longer anyway just because they feel like it.\"b\\'Georgian troops retreat from S. Osettain capital, presumably leaving several hundred people killed. [VIDEO]\\'b\\'Did the U.S. Prep Georgia for War with Russia?\\'b\\'Rice Gives Green Light for Israel to Attack Iran: Says U.S. has no veto over Israeli military ops\\'b\\'Announcing:Class Action Lawsuit on Behalf of American Public Against the FBI\\'b\"So---Russia and Georgia are at war and the NYT\\'s top story is opening ceremonies of the Olympics?  What a fucking disgrace and yet further proof of the decline of journalism.\"b\"China tells Bush to stay out of other countries\\' affairs\"b\\'Did World War III start today?\\'b\\'Georgia Invades South Ossetia - if Russia gets involved, will NATO absorb Georgia and unleash a full scale war?\\'b\\'Al-Qaeda Faces Islamist Backlash\\'b\\'Condoleezza Rice: \"The US would not act to prevent an Israeli strike on Iran.\" Israeli Defense Minister Ehud Barak: \"Israel is prepared for uncompromising victory in the case of military hostilities.\"\\'b\\'This is a busy day:  The European Union has approved new sanctions against Iran in protest at its nuclear programme.\\'b\"Georgia will withdraw 1,000 soldiers from Iraq to help fight off Russian forces in Georgia\\'s breakaway region of South Ossetia\"b\\'Why the Pentagon Thinks Attacking Iran is a Bad Idea - US News &amp; World Report\\'b\\'Caucasus in crisis: Georgia invades South Ossetia\\''"
            ]
          },
          "metadata": {
            "tags": []
          },
          "execution_count": 8
        }
      ]
    },
    {
      "cell_type": "markdown",
      "metadata": {
        "id": "71ce788c"
      },
      "source": [
        "대문자, 축약어, 특수기호 등이 많이 보입니다. \n",
        "\n",
        "이렇게 불필요해보이는 문자들을 먼저 제거한 후 모든 단어를 소문자로 변경하겠습니다."
      ],
      "id": "71ce788c"
    },
    {
      "cell_type": "code",
      "metadata": {
        "id": "7e21d181",
        "outputId": "096de5f8-0c11-438f-934c-11760cec7180"
      },
      "source": [
        "import re\n",
        "\n",
        "for idx, text in enumerate(df['news']):\n",
        "    text = text.lower()\n",
        "    text = text.replace('\\n',' ')\n",
        "    text = re.sub(r'[^a-z0-9 ]', '', text)\n",
        "    df['news'][idx] = text"
      ],
      "id": "7e21d181",
      "execution_count": null,
      "outputs": [
        {
          "output_type": "stream",
          "text": [
            "<ipython-input-9-27a20773a271>:7: SettingWithCopyWarning: \n",
            "A value is trying to be set on a copy of a slice from a DataFrame\n",
            "\n",
            "See the caveats in the documentation: https://pandas.pydata.org/pandas-docs/stable/user_guide/indexing.html#returning-a-view-versus-a-copy\n",
            "  df['news'][idx] = text\n"
          ],
          "name": "stderr"
        }
      ]
    },
    {
      "cell_type": "markdown",
      "metadata": {
        "id": "ce7252d9"
      },
      "source": [
        "다시 결측치를 확인합니다."
      ],
      "id": "ce7252d9"
    },
    {
      "cell_type": "code",
      "metadata": {
        "id": "aca0270a",
        "outputId": "c6c9fb7f-68c7-46af-f2bd-bf87cdd8baa3"
      },
      "source": [
        "print(df.shape)\n",
        "print(df.isnull().sum())"
      ],
      "id": "aca0270a",
      "execution_count": null,
      "outputs": [
        {
          "output_type": "stream",
          "text": [
            "(1988, 3)\n",
            "date     0\n",
            "price    0\n",
            "news     0\n",
            "dtype: int64\n"
          ],
          "name": "stdout"
        }
      ]
    },
    {
      "cell_type": "markdown",
      "metadata": {
        "id": "7bff5b5a"
      },
      "source": [
        "데이터를 훈련셋과 테스트셋으로 분리합니다."
      ],
      "id": "7bff5b5a"
    },
    {
      "cell_type": "code",
      "metadata": {
        "id": "06496231",
        "outputId": "8bcd3665-c8f8-4041-ccde-06d77d5fb168"
      },
      "source": [
        "train = df[df['date'] < '2014-07-01']\n",
        "test = df[df['date'] > '2014-06-30']\n",
        "\n",
        "train.shape, test.shape"
      ],
      "id": "06496231",
      "execution_count": null,
      "outputs": [
        {
          "output_type": "execute_result",
          "data": {
            "text/plain": [
              "((1482, 3), (506, 3))"
            ]
          },
          "metadata": {
            "tags": []
          },
          "execution_count": 11
        }
      ]
    },
    {
      "cell_type": "markdown",
      "metadata": {
        "id": "e327a723"
      },
      "source": [
        "특성값과 타겟값을 지정해줍니다."
      ],
      "id": "e327a723"
    },
    {
      "cell_type": "code",
      "metadata": {
        "id": "c779d62c",
        "outputId": "1d864aa6-0179-4935-c06c-56737104ffdb"
      },
      "source": [
        "x_train = train['news']\n",
        "y_train = train['price']\n",
        "\n",
        "x_test = test['news']\n",
        "y_test = test['price']\n",
        "\n",
        "print(f'Train : x_train= {x_train.shape}, y_train= {y_train.shape}')\n",
        "print(f'Test : x_test= {x_test.shape}, y_test= {y_test.shape}')"
      ],
      "id": "c779d62c",
      "execution_count": null,
      "outputs": [
        {
          "output_type": "stream",
          "text": [
            "Train : x_train= (1482,), y_train= (1482,)\n",
            "Test : x_test= (506,), y_test= (506,)\n"
          ],
          "name": "stdout"
        }
      ]
    },
    {
      "cell_type": "markdown",
      "metadata": {
        "id": "59f0bd26"
      },
      "source": [
        "**각 문장을 단어별로 추려내 단어의 빈도수를 카운트하여 일종의 단어장을 만들겁니다.**\n",
        "\n",
        "**이 과정을 '토큰화(tokenize)'라고 합니다.**"
      ],
      "id": "59f0bd26"
    },
    {
      "cell_type": "code",
      "metadata": {
        "id": "f38b6b65",
        "outputId": "0ccb9d8d-0b71-47e2-b6a3-5bb9c937aee5"
      },
      "source": [
        "from keras.preprocessing.text import Tokenizer\n",
        "\n",
        "tokenizer = Tokenizer(num_words=30000)\n",
        "tokenizer.fit_on_texts(x_train)\n",
        "\n",
        "vocab_size = len(tokenizer.word_index) + 1\n",
        "print(vocab_size)"
      ],
      "id": "f38b6b65",
      "execution_count": null,
      "outputs": [
        {
          "output_type": "stream",
          "text": [
            "58884\n"
          ],
          "name": "stdout"
        }
      ]
    },
    {
      "cell_type": "markdown",
      "metadata": {
        "id": "cdfb0dba"
      },
      "source": [
        "이제 문자열을 각 단어의 인덱스로 변경하겠습니다.\n",
        "\n",
        "이렇게 된다면 컴퓨터가 해당 숫자가 어떤 단어를 의미하는지 인식 할 수 있습니다.\n",
        "\n",
        "**이 과정을 스퀸스라고 합니다.**"
      ],
      "id": "cdfb0dba"
    },
    {
      "cell_type": "code",
      "metadata": {
        "id": "2fd61871",
        "outputId": "2015be3b-9cee-40e7-be89-c4cc2a22d9c3"
      },
      "source": [
        "x_train_encoded = tokenizer.texts_to_sequences(x_train)\n",
        "x_test_encoded = tokenizer.texts_to_sequences(x_test)\n",
        "\n",
        "train_max_len = max(len(i) for i in x_train_encoded)\n",
        "train_mean_len = np.mean([len(i) for i in x_train_encoded])\n",
        "print(f'Train : Max_Sequence = {train_max_len}, Mean_Sequence = {train_mean_len:.4f}')\n",
        "\n",
        "test_max_len = max(len(i) for i in x_test_encoded)\n",
        "test_mean_len = np.mean([len(i) for i in x_test_encoded])\n",
        "print(f'Test : Max_Sequence = {test_max_len}, Mean_Sequence = {test_mean_len:.4f}')"
      ],
      "id": "2fd61871",
      "execution_count": null,
      "outputs": [
        {
          "output_type": "stream",
          "text": [
            "Train : Max_Sequence = 657, Mean_Sequence = 351.1586\n",
            "Test : Max_Sequence = 477, Mean_Sequence = 331.7628\n"
          ],
          "name": "stdout"
        }
      ]
    },
    {
      "cell_type": "markdown",
      "metadata": {
        "id": "db57f35c"
      },
      "source": [
        "가장 긴 헤드라인 뉴스는 인덱스를 660개 가량 가지고 있습니다.\n",
        "\n",
        "평균적으로는 각 헤드라인 뉴스는 350개 정도의 인덱스를 포함합니다.\n",
        "\n",
        "보시다시피 각 일자별 헤드라인은 갖고 있는 인덱스의 크기가 다릅니다.\n",
        "\n",
        "딥러닝에 해당 데이터를 넣기 위해서는 모두 같은 길이로 통일시켜줄 필요가 있습니다.\n",
        "\n",
        "**이것을 바로 패딩(Padding)이라고 합니다.**\n",
        "\n"
      ],
      "id": "db57f35c"
    },
    {
      "cell_type": "code",
      "metadata": {
        "id": "7df355f7",
        "outputId": "66e5a10a-10b6-436e-d984-593bd5791332"
      },
      "source": [
        "from tensorflow.keras.preprocessing.sequence import pad_sequences\n",
        "\n",
        "x_train_ps = pad_sequences(x_train_encoded, maxlen= 400)\n",
        "x_test_ps = pad_sequences(x_test_encoded, maxlen= 400)\n",
        "\n",
        "x_train_ps.shape, x_test_ps.shape"
      ],
      "id": "7df355f7",
      "execution_count": null,
      "outputs": [
        {
          "output_type": "execute_result",
          "data": {
            "text/plain": [
              "((1482, 400), (506, 400))"
            ]
          },
          "metadata": {
            "tags": []
          },
          "execution_count": 69
        }
      ]
    },
    {
      "cell_type": "code",
      "metadata": {
        "id": "2cf0e019"
      },
      "source": [
        "y_train = np.array(y_train)\n",
        "y_test = np.array(y_test)"
      ],
      "id": "2cf0e019",
      "execution_count": null,
      "outputs": []
    },
    {
      "cell_type": "markdown",
      "metadata": {
        "id": "f3921666"
      },
      "source": [
        "위에서 각 날짜별 헤드라인뉴스의 평균 인덱스 갯수가 360개 정도였으므로, 평균보다 조금 많은 400개로 길이를 제한하였습니다.\n",
        "\n",
        "\n",
        "\n",
        "**이제 컴퓨터가 각 단어가 어떤 숫자로 번역되는지 참고 할 수 있는 외국어사전을 필요로합니다.**\n",
        "\n",
        "이런 사전을 단어임베딩이라고 하며, 보통 미리 학습된 단어들의 벡터값을 온라인으로 어렵지 않게 구할 수 있습니다."
      ],
      "id": "f3921666"
    },
    {
      "cell_type": "code",
      "metadata": {
        "id": "782a7114",
        "outputId": "6acfa9a0-44b7-45a6-937e-7b9574f3e5d0"
      },
      "source": [
        "# 임베딩벡터 중 성능이 가장 좋다는 GLOVE의 840B.300d 모듈을 사용합니다.\n",
        "\n",
        "embedding_dict = dict()\n",
        "\n",
        "f = open('E:/cstates/glove.840B.300d.txt', encoding=\"utf8\")\n",
        "\n",
        "for line in f:\n",
        "    word_vector = line.split(' ')\n",
        "    word = word_vector[0]\n",
        "    word_vector_arr = np.asarray(word_vector[1:], dtype='float32')\n",
        "    embedding_dict[word] = word_vector_arr\n",
        "    \n",
        "print('%s개의 Embedding vector가 있습니다.' % len(embedding_dict))        "
      ],
      "id": "782a7114",
      "execution_count": null,
      "outputs": [
        {
          "output_type": "stream",
          "text": [
            "2196017개의 Embedding vector가 있습니다.\n"
          ],
          "name": "stdout"
        }
      ]
    },
    {
      "cell_type": "code",
      "metadata": {
        "id": "3eef0ad4",
        "outputId": "afaf3da3-6152-4e33-e598-d827e0a66540"
      },
      "source": [
        "# 임베딩 가중치 행렬을 만들어줍니다.\n",
        "\n",
        "embedding_matrix = np.zeros((vocab_size, 300))\n",
        "\n",
        "print(np.shape(embedding_matrix))"
      ],
      "id": "3eef0ad4",
      "execution_count": null,
      "outputs": [
        {
          "output_type": "stream",
          "text": [
            "(58884, 300)\n"
          ],
          "name": "stdout"
        }
      ]
    },
    {
      "cell_type": "markdown",
      "metadata": {
        "id": "ef5a8dea"
      },
      "source": [
        "그리고 토큰화된 단어 인덱스를 임베딩벡터와 대조합니다.\n",
        "\n",
        "이제 컴퓨터는 특정 행렬값이 어떤 단어를 의미하는지 이해할 수 있습니다."
      ],
      "id": "ef5a8dea"
    },
    {
      "cell_type": "code",
      "metadata": {
        "id": "20ba261a"
      },
      "source": [
        "def get_vector(word):\n",
        "    if word in f: \n",
        "        return f[word]\n",
        "    else:\n",
        "        return None\n",
        "    \n",
        "for word, i in tokenizer.word_index.items(): \n",
        "    temp = get_vector(word)                  \n",
        "    if temp is not None:                      \n",
        "        embedding_matrix[i] = temp   "
      ],
      "id": "20ba261a",
      "execution_count": null,
      "outputs": []
    },
    {
      "cell_type": "markdown",
      "metadata": {
        "id": "ef700807"
      },
      "source": [
        "## 5. 딥러닝 방식을 적용하기 앞서 간단한 회귀모델로 분석"
      ],
      "id": "ef700807"
    },
    {
      "cell_type": "markdown",
      "metadata": {
        "id": "3df31a79"
      },
      "source": [
        "* **5-1. 선형회귀 모델**"
      ],
      "id": "3df31a79"
    },
    {
      "cell_type": "code",
      "metadata": {
        "id": "891f60c4"
      },
      "source": [
        "from sklearn.linear_model import LinearRegression\n",
        "\n",
        "lin = LinearRegression()\n",
        "lin_model = lin.fit(x_train_ps, y_train)"
      ],
      "id": "891f60c4",
      "execution_count": null,
      "outputs": []
    },
    {
      "cell_type": "code",
      "metadata": {
        "id": "26b6a9bc",
        "outputId": "74ca12b9-d99d-44f8-aecc-03b91fd5f327"
      },
      "source": [
        "from sklearn.metrics import mean_absolute_error as mae\n",
        "from sklearn.metrics import mean_squared_error as mse\n",
        "\n",
        "lin_pred = lin_model.predict(x_test_ps)\n",
        "\n",
        "print(f'선형회귀 오차는 \"MAE = {mae(lin_pred, y_test):.4f}\" / \"MSE = {mse(lin_pred, y_test):.4f}\"')"
      ],
      "id": "26b6a9bc",
      "execution_count": null,
      "outputs": [
        {
          "output_type": "stream",
          "text": [
            "선형회귀 오차는 \"MAE = 0.0106\" / \"MSE = 0.0002\"\n"
          ],
          "name": "stdout"
        }
      ]
    },
    {
      "cell_type": "markdown",
      "metadata": {
        "id": "95e9f11f"
      },
      "source": [
        "분석모델의 예상치가 실제 예상치보다 평균적으로 매우 크다는 것을 알 수 있습니다.\n",
        "\n",
        "시각화를 통해 실제값과 예측값을 비교해보겠습니다."
      ],
      "id": "95e9f11f"
    },
    {
      "cell_type": "code",
      "metadata": {
        "id": "e75fddfa",
        "outputId": "1981ef7b-0d4a-4be1-97c4-184875fb9336"
      },
      "source": [
        "plt.figure(figsize=(16, 6))\n",
        "plt.plot(np.array(y_test), label = 'Actual')\n",
        "plt.plot(lin_pred, label = 'Prediction')\n",
        "plt.legend()\n",
        "plt.show()"
      ],
      "id": "e75fddfa",
      "execution_count": null,
      "outputs": [
        {
          "output_type": "display_data",
          "data": {
            "image/png": "[encoded data removed]",
            "text/plain": [
              "<Figure size 1152x432 with 1 Axes>"
            ]
          },
          "metadata": {
            "tags": [],
            "needs_background": "light"
          }
        }
      ]
    },
    {
      "cell_type": "markdown",
      "metadata": {
        "id": "78dd86ff"
      },
      "source": [
        "**시각화 자료를 보면 실제 주가변동량과 유사하지만 전체적으로 오차가 크다는 것을 알 수 있습니다.**"
      ],
      "id": "78dd86ff"
    },
    {
      "cell_type": "markdown",
      "metadata": {
        "id": "015ab248"
      },
      "source": [
        "## 6. 딥러닝 적용"
      ],
      "id": "015ab248"
    },
    {
      "cell_type": "markdown",
      "metadata": {
        "id": "739bbbc7"
      },
      "source": [
        "* 앞선 선형회귀분석의 결과로 딥러닝 분석에서 요구되는 Chance Level은 MAE = 124.8629 입니다.\n",
        "\n",
        "* 이번에는 시계열분석에 적합한 딥러닝 모델인 LSTM을 사용해보겠습니다."
      ],
      "id": "739bbbc7"
    },
    {
      "cell_type": "code",
      "metadata": {
        "id": "feeb58e8"
      },
      "source": [
        "# 딥러닝에 필요한 라이브러리를 불러옵니다.\n",
        "from keras.models import Sequential, Model\n",
        "from keras.layers.convolutional import Convolution1D\n",
        "from keras.layers.recurrent import LSTM, SimpleRNN, GRU\n",
        "from keras.layers.core import Dense, Dropout, Activation\n",
        "from tensorflow.keras.layers import Dense, Embedding, GlobalAveragePooling1D\n",
        "from tensorflow.keras.callbacks import ModelCheckpoint,ReduceLROnPlateau,EarlyStopping,Callback\n",
        "from tensorflow.keras.optimizers import Adam\n",
        "from tensorflow.keras import initializers"
      ],
      "id": "feeb58e8",
      "execution_count": null,
      "outputs": []
    },
    {
      "cell_type": "code",
      "metadata": {
        "id": "5576b66e"
      },
      "source": [
        "# 모델에 들어갈 파라미터 값을 정의합니다.\n",
        "\n",
        "filter_length= 5\n",
        "dropout=0.2\n",
        "learning_rate=0.001\n",
        "nb_filter=16\n",
        "rnn_output_size = 128\n",
        "hidden_dims = 128"
      ],
      "id": "5576b66e",
      "execution_count": null,
      "outputs": []
    },
    {
      "cell_type": "code",
      "metadata": {
        "id": "fdf1578e",
        "outputId": "d8f8aebc-a004-4209-e7ee-cde477406ab7"
      },
      "source": [
        "# 벡터화된 뉴스데이터로 LSTM을 사용하여 주가를 분석합니다.\n",
        "\n",
        "model=Sequential()\n",
        "model.add(Embedding(vocab_size, 300, weights=[embedding_matrix], input_length=400))\n",
        "model.add(Dropout(dropout))\n",
        "\n",
        "model.add(LSTM(128, activation= 'tanh', dropout=dropout))\n",
        "\n",
        "model.add(Dense(128, kernel_initializer = weights))\n",
        "model.add(Dropout(dropout))\n",
        "\n",
        "model.add(Dense(1,kernel_initializer= weights, name='output'))\n",
        "\n",
        "model.compile(loss='mean_squared_error',optimizer=Adam(lr= learning_rate, clipvalue=1.0))\n",
        "\n",
        "model.summary()"
      ],
      "id": "fdf1578e",
      "execution_count": null,
      "outputs": [
        {
          "output_type": "stream",
          "text": [
            "Model: \"sequential_20\"\n",
            "_________________________________________________________________\n",
            "Layer (type)                 Output Shape              Param #   \n",
            "=================================================================\n",
            "embedding_20 (Embedding)     (None, 400, 300)          17665200  \n",
            "_________________________________________________________________\n",
            "dropout_49 (Dropout)         (None, 400, 300)          0         \n",
            "_________________________________________________________________\n",
            "lstm_19 (LSTM)               (None, 128)               219648    \n",
            "_________________________________________________________________\n",
            "dense_16 (Dense)             (None, 128)               16512     \n",
            "_________________________________________________________________\n",
            "dropout_50 (Dropout)         (None, 128)               0         \n",
            "_________________________________________________________________\n",
            "output (Dense)               (None, 1)                 129       \n",
            "=================================================================\n",
            "Total params: 17,901,489\n",
            "Trainable params: 17,901,489\n",
            "Non-trainable params: 0\n",
            "_________________________________________________________________\n"
          ],
          "name": "stdout"
        }
      ]
    },
    {
      "cell_type": "code",
      "metadata": {
        "id": "02169b3d"
      },
      "source": [
        "# Callback 함수를 정의합니다.\n",
        "\n",
        "save_best_weights = 'best_weights.h5'\n",
        "\n",
        "callbacks = [ModelCheckpoint(save_best_weights, monitor='val_loss', save_best_only=True),\n",
        "            EarlyStopping(monitor='val_loss', patience=5, verbose=1, mode='auto'),\n",
        "            ReduceLROnPlateau(monitor='val_loss', factor=0.2, verbose=1, patience=3)]"
      ],
      "id": "02169b3d",
      "execution_count": null,
      "outputs": []
    },
    {
      "cell_type": "code",
      "metadata": {
        "id": "96e701bc",
        "outputId": "23a3f0da-d09d-423b-b754-cb1f9ae56b61"
      },
      "source": [
        "model.fit([x_train_ps], y_train, batch_size=128, \n",
        "          epochs=100, verbose=True, shuffle=True, callbacks = callbacks, validation_split=0.15)"
      ],
      "id": "96e701bc",
      "execution_count": null,
      "outputs": [
        {
          "output_type": "stream",
          "text": [
            "Epoch 1/100\n",
            "10/10 [==============================] - 48s 5s/step - loss: 2.2544e-04 - val_loss: 8.4676e-05\n",
            "Epoch 2/100\n",
            "10/10 [==============================] - 46s 5s/step - loss: 1.3310e-04 - val_loss: 8.4723e-05\n",
            "Epoch 3/100\n",
            "10/10 [==============================] - 46s 5s/step - loss: 7.3334e-05 - val_loss: 9.8449e-05\n",
            "Epoch 4/100\n",
            "10/10 [==============================] - ETA: 0s - loss: 4.1108e-05\n",
            "Epoch 00004: ReduceLROnPlateau reducing learning rate to 0.00020000000949949026.\n",
            "10/10 [==============================] - 45s 5s/step - loss: 4.1108e-05 - val_loss: 1.0219e-04\n",
            "Epoch 5/100\n",
            "10/10 [==============================] - 46s 5s/step - loss: 2.3931e-05 - val_loss: 1.0473e-04\n",
            "Epoch 6/100\n",
            "10/10 [==============================] - 47s 5s/step - loss: 1.9533e-05 - val_loss: 1.0323e-04\n",
            "Epoch 00006: early stopping\n"
          ],
          "name": "stdout"
        },
        {
          "output_type": "execute_result",
          "data": {
            "text/plain": [
              "<tensorflow.python.keras.callbacks.History at 0x18e6f58e430>"
            ]
          },
          "metadata": {
            "tags": []
          },
          "execution_count": 165
        }
      ]
    },
    {
      "cell_type": "code",
      "metadata": {
        "id": "5fe2ce06",
        "outputId": "1ca0654e-df4d-40fe-834c-cb301d6922fb"
      },
      "source": [
        "y_pred = model.predict([x_test_ps], verbose=True)\n",
        "\n",
        "print(f'LSTM 오차는 \"MAE = {mae(y_pred, y_test):.4f}\" / \"MSE = {mse(y_pred, y_test):.4f}\"')"
      ],
      "id": "5fe2ce06",
      "execution_count": null,
      "outputs": [
        {
          "output_type": "stream",
          "text": [
            "16/16 [==============================] - 5s 283ms/step\n",
            "LSTM 오차는 \"MAE = 0.0109\" / \"MSE = 0.0002\"\n"
          ],
          "name": "stdout"
        }
      ]
    },
    {
      "cell_type": "code",
      "metadata": {
        "scrolled": false,
        "id": "126e10aa",
        "outputId": "1a200f03-a61b-41db-fa2b-0ec444359dc9"
      },
      "source": [
        "plt.figure(figsize=(16, 6))\n",
        "plt.plot(y_test, label = 'actual')\n",
        "plt.plot(y_pred, label = 'LSTM')\n",
        "plt.legend()\n",
        "plt.show()"
      ],
      "id": "126e10aa",
      "execution_count": null,
      "outputs": [
        {
          "output_type": "display_data",
          "data": {
            "image/png": "[encoded data removed]",
            "text/plain": [
              "<Figure size 1152x432 with 1 Axes>"
            ]
          },
          "metadata": {
            "tags": [],
            "needs_background": "light"
          }
        }
      ]
    },
    {
      "cell_type": "markdown",
      "metadata": {
        "id": "db084c9f"
      },
      "source": [
        "\n",
        "**최종적으로 딥러닝이 머신러닝보다 우위라고 할 수 없는 결과가 나왔습니다.**\n",
        "\n",
        "**다양한 파라미터로 테스트하였지만 MAE값 0.01에서 더 감소 시키는 것은 어려웠으며**\n",
        "\n",
        "**두 모델은 거의 차이가 없는 성능을 보인다고 판단됩니다.**"
      ],
      "id": "db084c9f"
    },
    {
      "cell_type": "markdown",
      "metadata": {
        "id": "03e0edce"
      },
      "source": [
        "## 7. 딥러닝이 우위를 보이지 못한 분석 "
      ],
      "id": "03e0edce"
    },
    {
      "cell_type": "markdown",
      "metadata": {
        "id": "076dc79c"
      },
      "source": [
        "* **7-1. 먼저 관찰을 통해 확인 할 수 있는 사실을 파악해보겠습니다.**\n",
        "\n",
        "\n",
        "    * a.두 모델의 평균오차는 거의 동등하다고 보여집니다.\n",
        "    * b.두 모델의 시각화자료 역시 서로 매우 비슷한 패턴을 보입니다.\n",
        "    * c.오차가 큰 부분 역시 두 모델이 같은 부분으로 확인됩니다."
      ],
      "id": "076dc79c"
    },
    {
      "cell_type": "markdown",
      "metadata": {
        "id": "02cd6768"
      },
      "source": [
        "* **7-2. 이상오차구간 관측**"
      ],
      "id": "02cd6768"
    },
    {
      "cell_type": "markdown",
      "metadata": {
        "id": "cedac26a"
      },
      "source": [
        "본 모델은 시계열데이터이므로 해당 시기에 무슨일이 있었는지 확인해봐야할 것 같습니다."
      ],
      "id": "cedac26a"
    },
    {
      "cell_type": "markdown",
      "metadata": {
        "id": "1091fcc0"
      },
      "source": [
        "![300](https://github.com/laprass/drive/blob/main/section4_project/image/index_300.png?raw=true)"
      ],
      "id": "1091fcc0"
    },
    {
      "cell_type": "code",
      "metadata": {
        "id": "af6ca890",
        "outputId": "3814cf03-0928-4d94-ca5c-685fc3231f7c"
      },
      "source": [
        "val = test.copy().reset_index()\n",
        "val['date'][300]\n",
        "print('첫번째 큰 오차가 발생한 데이터는 2015년 9월 전후 입니다.')"
      ],
      "id": "af6ca890",
      "execution_count": null,
      "outputs": [
        {
          "output_type": "stream",
          "text": [
            "첫번째 큰 오차가 발생한 데이터는 2015년 9월 전후 입니다.\n"
          ],
          "name": "stdout"
        }
      ]
    },
    {
      "cell_type": "markdown",
      "metadata": {
        "id": "3e6daf11"
      },
      "source": [
        "![500](https://github.com/laprass/drive/blob/main/section4_project/image/index_500.png?raw=true)"
      ],
      "id": "3e6daf11"
    },
    {
      "cell_type": "code",
      "metadata": {
        "id": "64cc196a",
        "outputId": "a9bde6b6-b92b-4513-812c-34dc52b4b70e"
      },
      "source": [
        "val['date'][490]\n",
        "print('두번째 큰 오차가 발생한 데이터는 2016년 6월 전후 입니다.')"
      ],
      "id": "64cc196a",
      "execution_count": null,
      "outputs": [
        {
          "output_type": "stream",
          "text": [
            "두번째 큰 오차가 발생한 데이터는 2016년 6월 전후 입니다.\n"
          ],
          "name": "stdout"
        }
      ]
    },
    {
      "cell_type": "markdown",
      "metadata": {
        "id": "28b513db"
      },
      "source": [
        "* **7-3. 당시 발생한 글로벌이슈들**"
      ],
      "id": "28b513db"
    },
    {
      "cell_type": "markdown",
      "metadata": {
        "id": "576d285d"
      },
      "source": [
        "<br>\n",
        "<br>\n",
        "\n",
        "**첫번째 큰 오차가 발생하게된 시기에 큰 경제이슈로 중국발 금융위기 가능성이었습니다.**\n",
        "\n",
        "![china](https://github.com/laprass/drive/blob/main/section4_project/image/chinashock.PNG?raw=true)\n",
        "\n",
        "<br>\n",
        "<br>"
      ],
      "id": "576d285d"
    },
    {
      "cell_type": "markdown",
      "metadata": {
        "id": "ce1213e3"
      },
      "source": [
        "**두번째 큰 오차가 발생하게된 시기는 국민투표로 영국이 유로탈퇴를 결정하는 사건이 있었습니다.**\n",
        "\n",
        "![brexit](https://github.com/laprass/drive/blob/main/section4_project/image/brexit.PNG?raw=true)\n"
      ],
      "id": "ce1213e3"
    },
    {
      "cell_type": "markdown",
      "metadata": {
        "id": "c06d4f37"
      },
      "source": [
        "## 8. 분석 정리"
      ],
      "id": "c06d4f37"
    },
    {
      "cell_type": "markdown",
      "metadata": {
        "id": "a7f8b481"
      },
      "source": [
        "\n",
        "* **8-1. 초기 가설은 정확했는가?**\n",
        "\n",
        "저의 초기 가설은 **\"언론기사의 특정 키워드들이 주가변동과 높은 상관관계가 있을 것이다.\"** 였습니다.   \n",
        "\n",
        "그래도 머신러닝과 딥러닝에서 두 모델의 오차값이 상당히 작은 수준이라 이 가설은 절반 이상 증명되었다고 생각합니다."
      ],
      "id": "a7f8b481"
    },
    {
      "cell_type": "markdown",
      "metadata": {
        "id": "369415a1"
      },
      "source": [
        "* **8-2. 누락된 가설은 없는가?**\n",
        "\n",
        "그럼에도 딥러닝과 머신러닝이 일정 부분 이상 좋은 성능을 보이지 못한건 한가지 오류가 있었기 때문입니다.\n",
        "\n",
        "**언론의 키워드에만 의존한 자연어처리 모델이 주가의 방향은 근접하게 예측할 수 있어도,**\n",
        "**변동폭까지는 정확하게 예측이 힘들다는 것 입니다.**\n",
        "\n",
        "저는 이 부분을 고려하지 못하고 연구를 진행한 것이 실수였다고 판단합니다."
      ],
      "id": "369415a1"
    },
    {
      "cell_type": "markdown",
      "metadata": {
        "id": "7fcd73f4"
      },
      "source": [
        "* **8-3. 학습오류의 원인**\n",
        "\n",
        "위 두 사건으로 인해 다우존스지수가 큰 폭으로 변동했을때,\n",
        "\n",
        "자연어처리 모델의 학습자료는 이전에 언론에서 다루지 않았던 패턴들이었을 것 입니다.\n",
        "\n",
        "따라서 **새로운 키워드가 학습패턴과 다를지라도, 과거와 유사한 수치를 결과값을 보여줄 수 밖에** 없습니다."
      ],
      "id": "7fcd73f4"
    },
    {
      "cell_type": "markdown",
      "metadata": {
        "id": "01b81a64"
      },
      "source": [
        "* **8-4. 개선 방향**\n",
        "\n",
        "향후 이 모델을 더 발전시키기 위해서는 포털뉴스의 헤드라인만을 다루는 것에서 벗어나야겠습니다.\n",
        "\n",
        "대륙별로 스크래핑하여 해당 대륙의 대표지수와 매칭하거나\n",
        "\n",
        "해당 국가의 GDP, 실업율 같은 경제데이터와 병합시켜 다각적인 모델링을 한다면\n",
        "\n",
        "딥러닝으로 머신러닝보다 발전된 성과를 거두고, 프로젝트에서 체험한 학습오류를 어느정도 해소할 수 있을 거라 생각합니다."
      ],
      "id": "01b81a64"
    }
  ]
}
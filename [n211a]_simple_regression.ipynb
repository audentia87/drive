{
  "nbformat": 4,
  "nbformat_minor": 0,
  "metadata": {
    "colab": {
      "name": "[n211a]-simple-regression.ipynb",
      "provenance": [],
      "include_colab_link": true
    },
    "kernelspec": {
      "display_name": "Python 3",
      "language": "python",
      "name": "python3"
    },
    "language_info": {
      "codemirror_mode": {
        "name": "ipython",
        "version": 3
      },
      "file_extension": ".py",
      "mimetype": "text/x-python",
      "name": "python",
      "nbconvert_exporter": "python",
      "pygments_lexer": "ipython3",
      "version": "3.8.5"
    }
  },
  "cells": [
    {
      "cell_type": "markdown",
      "metadata": {
        "id": "view-in-github",
        "colab_type": "text"
      },
      "source": [
        "<a href=\"https://colab.research.google.com/github/laprass/drive/blob/main/%5Bn211a%5D_simple_regression.ipynb\" target=\"_parent\"><img src=\"https://colab.research.google.com/assets/colab-badge.svg\" alt=\"Open In Colab\"/></a>"
      ]
    },
    {
      "cell_type": "markdown",
      "metadata": {
        "id": "Y_IHoww4ZXfD"
      },
      "source": [
        "<img align=\"right\" src=\"https://ds-cs-images.s3.ap-northeast-2.amazonaws.com/Codestates_Fulllogo_Color.png\" width=100>\n",
        "\n",
        "## *DATA SCIENCE / SECTION 2 / SPRINT 1 / NOTE 1*\n",
        "\n",
        "# 📝 Assignment\n",
        "---"
      ]
    },
    {
      "cell_type": "markdown",
      "metadata": {
        "id": "7IXUfiQ2UKj6"
      },
      "source": [
        "# Linear Regression\n",
        "\n",
        "이번 모듈에서 사용한 데이터와 유사한 데이터를 사용해 복습해 보겠습니다. 이 데이터셋은 미국 시애틀 King County 지역에서 2014년 5월부터 ~ 2015년 5월 까지 주택 판매 가격 데이터입니다.\n",
        "\n",
        "   - [House Sales in King County, USA](https://www.kaggle.com/harlfoxem/housesalesprediction?select=kc_house_data.csv)\n",
        "\n",
        "\n",
        "이 데이터를 사용해 다음 과제를 마크다운과 코드를 사용해 진행해 주세요."
      ]
    },
    {
      "cell_type": "code",
      "metadata": {
        "id": "-zxOhRKhZXfh"
      },
      "source": [
        "# 데이터는 캐글에서 받으셔도 되고 이 링크에서 불러와도 됩니다.\n",
        "import pandas as pd\n",
        "import numpy as np\n",
        "import seaborn as sns\n",
        "import matplotlib.pyplot as plt\n",
        "\n",
        "from sklearn.linear_model import LinearRegression\n",
        "from sklearn.preprocessing import StandardScaler\n",
        "from ipywidgets import interact\n",
        "\n",
        "df = pd.read_csv('https://ds-lecture-data.s3.ap-northeast-2.amazonaws.com/kc_house_data/kc_house_data.csv')\n",
        "\n",
        "# pd.set_option('display.max.column',None)\n",
        "# pd.set_option('display.max.row',None)"
      ],
      "execution_count": null,
      "outputs": []
    },
    {
      "cell_type": "code",
      "metadata": {
        "id": "PtYbDGXVFaB6"
      },
      "source": [
        "df = df.drop(['id','date'], axis=1)"
      ],
      "execution_count": null,
      "outputs": []
    },
    {
      "cell_type": "code",
      "metadata": {
        "id": "edgFH0MuFaB6"
      },
      "source": [
        "# df = StandardScaler().fit_transform(df0)"
      ],
      "execution_count": null,
      "outputs": []
    },
    {
      "cell_type": "code",
      "metadata": {
        "id": "TlrVIlLkFaB7"
      },
      "source": [
        "# df = pd.DataFrame(df, columns = df0.columns)\n",
        "# df"
      ],
      "execution_count": null,
      "outputs": []
    },
    {
      "cell_type": "markdown",
      "metadata": {
        "id": "fIOTS9a4FaB7"
      },
      "source": [
        "### 1) 특성들과 타겟(Price)과의 상관계수를 계산하고 가장 상관관계가 높은 특성을 찾아 타겟과의 관계를 시각화 하세요.\n",
        "- **타겟과 상관관계가 가장 높은 특성의 이름을 과제 제출폼에 제출하세요.**"
      ]
    },
    {
      "cell_type": "code",
      "metadata": {
        "id": "xJz0jpxoFaB8",
        "outputId": "72096443-9181-493d-c685-5ce449ca2077"
      },
      "source": [
        "# searching a maximum correlation.\n",
        "\n",
        "df_cor = df.corr()\n",
        "df_cor_price = df_cor['price']\n",
        "price = df_cor_price.sort_values(ascending = False)\n",
        "price"
      ],
      "execution_count": null,
      "outputs": [
        {
          "output_type": "execute_result",
          "data": {
            "text/plain": [
              "price            1.000000\n",
              "sqft_living      0.702035\n",
              "grade            0.667434\n",
              "sqft_above       0.605567\n",
              "sqft_living15    0.585379\n",
              "bathrooms        0.525138\n",
              "view             0.397293\n",
              "sqft_basement    0.323816\n",
              "bedrooms         0.308350\n",
              "lat              0.307003\n",
              "waterfront       0.266369\n",
              "floors           0.256794\n",
              "yr_renovated     0.126434\n",
              "sqft_lot         0.089661\n",
              "sqft_lot15       0.082447\n",
              "yr_built         0.054012\n",
              "condition        0.036362\n",
              "long             0.021626\n",
              "zipcode         -0.053203\n",
              "Name: price, dtype: float64"
            ]
          },
          "metadata": {
            "tags": []
          },
          "execution_count": 5
        }
      ]
    },
    {
      "cell_type": "markdown",
      "metadata": {
        "id": "gWSi9DCwFaCP"
      },
      "source": [
        "**주택가격과 가장 상관계수가 높은 특성은 'sqft_living'**"
      ]
    },
    {
      "cell_type": "code",
      "metadata": {
        "id": "M89jjmznFaCQ",
        "outputId": "94715240-1703-45df-fa8d-e35f7a2c1626"
      },
      "source": [
        "print('Highest Feature = sqft_living, corr_value = {}'.format(round(price[1],3)))"
      ],
      "execution_count": null,
      "outputs": [
        {
          "output_type": "stream",
          "text": [
            "Highest Feature = sqft_living, corr_value = 0.702\n"
          ],
          "name": "stdout"
        }
      ]
    },
    {
      "cell_type": "code",
      "metadata": {
        "id": "XxPkWZRqFaCT",
        "outputId": "93fb0d18-b945-4481-8751-796e2ac6ed82"
      },
      "source": [
        "# visualize\n",
        "\n",
        "sns.regplot(x = df['sqft_living'], y = df['price'])"
      ],
      "execution_count": null,
      "outputs": [
        {
          "output_type": "execute_result",
          "data": {
            "text/plain": [
              "<AxesSubplot:xlabel='sqft_living', ylabel='price'>"
            ]
          },
          "metadata": {
            "tags": []
          },
          "execution_count": 66
        },
        {
          "output_type": "display_data",
          "data": {
            "image/png": "[encoded data removed]",
            "text/plain": [
              "<Figure size 432x288 with 1 Axes>"
            ]
          },
          "metadata": {
            "tags": [],
            "needs_background": "light"
          }
        }
      ]
    },
    {
      "cell_type": "markdown",
      "metadata": {
        "id": "7Rcd7cf4ZXfj"
      },
      "source": [
        "### 2) grade 와 price의 scatter plot을 그리고 기준모델을 시각화 해 보세요.\n",
        "- **기준모델의 값을 과제 제출폼에 제출하세요.**"
      ]
    },
    {
      "cell_type": "code",
      "metadata": {
        "id": "UeMOC1rDFaCU",
        "outputId": "58d80a01-0210-4010-c53a-ca073d6e9709"
      },
      "source": [
        "# price data stats\n",
        "\n",
        "df['price'].describe()"
      ],
      "execution_count": null,
      "outputs": [
        {
          "output_type": "execute_result",
          "data": {
            "text/plain": [
              "count    2.161300e+04\n",
              "mean     5.400881e+05\n",
              "std      3.671272e+05\n",
              "min      7.500000e+04\n",
              "25%      3.219500e+05\n",
              "50%      4.500000e+05\n",
              "75%      6.450000e+05\n",
              "max      7.700000e+06\n",
              "Name: price, dtype: float64"
            ]
          },
          "metadata": {
            "tags": []
          },
          "execution_count": 58
        }
      ]
    },
    {
      "cell_type": "code",
      "metadata": {
        "id": "jTTyKUe_ZXfj"
      },
      "source": [
        "mean = df['price'].mean()\n",
        "error = mean - df['price']\n",
        "mae = error.abs().mean()"
      ],
      "execution_count": null,
      "outputs": []
    },
    {
      "cell_type": "code",
      "metadata": {
        "id": "JFq4wFioFaCV",
        "outputId": "e53be0e2-39f8-42c5-d364-7c5ae14f1ebf"
      },
      "source": [
        "print('기준모델을 평균으로 설정했으므로 \"기준모델의 값\"은 \"Price의 평균 = {}\"'.format(round(mean)))"
      ],
      "execution_count": null,
      "outputs": [
        {
          "output_type": "stream",
          "text": [
            "기준모델을 평균으로 설정했으므로 \"기준모델의 값\"은 \"Price의 평균 = 540088\"\n"
          ],
          "name": "stdout"
        }
      ]
    },
    {
      "cell_type": "code",
      "metadata": {
        "id": "wBybgfqoFaCV",
        "outputId": "53c4dfda-595d-4c7e-fc0a-50aa334a0e67"
      },
      "source": [
        "# visualize\n",
        "\n",
        "sns.lineplot(x = df['grade'], y = mean, color='red')\n",
        "sns.scatterplot(x = df['grade'], y = df['price'], color='blue');"
      ],
      "execution_count": null,
      "outputs": [
        {
          "output_type": "display_data",
          "data": {
            "image/png": "[encoded data removed]",
            "text/plain": [
              "<Figure size 432x288 with 1 Axes>"
            ]
          },
          "metadata": {
            "tags": [],
            "needs_background": "light"
          }
        }
      ]
    },
    {
      "cell_type": "markdown",
      "metadata": {
        "id": "yHH0_zL9ZXfj"
      },
      "source": [
        "### 3) Scikit-Learn 라이브러리를 사용해 특성 grade에 대한 선형회귀모델을 만들어 보세요.\n",
        "- **grade 값이 6인 경우에 모델이 예측하는 주택 가격을 과제 제출폼에 제출하세요.**"
      ]
    },
    {
      "cell_type": "code",
      "metadata": {
        "id": "64q0iPqpZXfk",
        "outputId": "bdd3e15b-b911-44bd-fef8-e3ae7dbd8861"
      },
      "source": [
        "# prediction model\n",
        "model = LinearRegression()\n",
        "\n",
        "# feature table / target vector\n",
        "feature = ['grade']\n",
        "target = ['price']\n",
        "\n",
        "# feature = grade / target = price\n",
        "x_grade_train = df[feature]\n",
        "y_price_train = df[target]\n",
        "\n",
        "# learning model\n",
        "model.fit(x_grade_train, y_price_train)"
      ],
      "execution_count": null,
      "outputs": [
        {
          "output_type": "execute_result",
          "data": {
            "text/plain": [
              "LinearRegression()"
            ]
          },
          "metadata": {
            "tags": []
          },
          "execution_count": 90
        }
      ]
    },
    {
      "cell_type": "code",
      "metadata": {
        "id": "TgBCjxu-FaCW",
        "outputId": "8b60bfa7-fab8-4834-83e7-783731d65c22"
      },
      "source": [
        "# price prediction by test data (grade = 6)\n",
        "\n",
        "x_grade_test = [[6]]\n",
        "y_price_pred = model.predict(x_grade_test)\n",
        "\n",
        "print(f'{x_grade_test[0][0]} 등급(Grade)을 가지는 주택의 예상 가격은 ${int(y_price_pred)} 입니다.')"
      ],
      "execution_count": null,
      "outputs": [
        {
          "output_type": "stream",
          "text": [
            "6 등급(Grade)을 가지는 주택의 예상 가격은 $194700 입니다.\n"
          ],
          "name": "stdout"
        }
      ]
    },
    {
      "cell_type": "code",
      "metadata": {
        "id": "QbN31SW8FaCX",
        "outputId": "e8880baf-3015-4b06-8e48-06c0de4266d5"
      },
      "source": [
        "# visualize\n",
        "\n",
        "plt.scatter(x_grade_train, y_price_train, color='gray', linewidth=1)\n",
        "plt.scatter(x_grade_test, y_price_pred, color='red', linewidth=5)"
      ],
      "execution_count": null,
      "outputs": [
        {
          "output_type": "execute_result",
          "data": {
            "text/plain": [
              "<matplotlib.collections.PathCollection at 0x232ba44cd30>"
            ]
          },
          "metadata": {
            "tags": []
          },
          "execution_count": 92
        },
        {
          "output_type": "display_data",
          "data": {
            "image/png": "[encoded data removed]",
            "text/plain": [
              "<Figure size 432x288 with 1 Axes>"
            ]
          },
          "metadata": {
            "tags": [],
            "needs_background": "light"
          }
        }
      ]
    },
    {
      "cell_type": "markdown",
      "metadata": {
        "id": "dOkRguc6ZXfk"
      },
      "source": [
        "### 4) 만든 모델을 사용해 새로운 데이터에 대해 예측을 해 보고 coefficient를 사용해 설명해 보세요.\n",
        "- **grade 특성에 대한 회귀계수를 과제 제출폼에 제출하세요.**"
      ]
    },
    {
      "cell_type": "code",
      "metadata": {
        "id": "K0pzBfpHZXfk",
        "outputId": "7b6b29bb-615d-4482-a1f7-f36b1b28c0e9"
      },
      "source": [
        "# model Coefficient\n",
        "\n",
        "print('Coefficient with per Grade = {}\"'.format(int(model.coef_[0][0])))"
      ],
      "execution_count": null,
      "outputs": [
        {
          "output_type": "stream",
          "text": [
            "Coefficient with per Grade = 208457\"\n"
          ],
          "name": "stdout"
        }
      ]
    },
    {
      "cell_type": "code",
      "metadata": {
        "colab": {
          "referenced_widgets": [
            "3a186655889549d3bf33b1156cb4bfbd"
          ]
        },
        "id": "5IbnWVURFaCY",
        "outputId": "f7ed3bc4-0e97-44ae-811e-1fc61b6efad3"
      },
      "source": [
        "from ipywidgets import interact\n",
        "\n",
        "@interact\n",
        "def grade_to_pedict(Grade = (df['grade'].min(),df['grade'].max())):\n",
        "    z_pred = model.predict([[Grade]])\n",
        "    pred = f\"{Grade} 등급의 주택 예상 가격 = ${int(z_pred[0])} (등급당 상승폭: ${int(model.coef_[0])})\"\n",
        "    return pred\n",
        "\n",
        "print('주택 등급이 \"1등급\" 올라갈때 \"Coefficient 정도의 금액\"도 \"같이 상승\"한다는 것을 알 수 있다.')"
      ],
      "execution_count": null,
      "outputs": [
        {
          "output_type": "display_data",
          "data": {
            "application/vnd.jupyter.widget-view+json": {
              "model_id": "3a186655889549d3bf33b1156cb4bfbd",
              "version_major": 2,
              "version_minor": 0
            },
            "text/plain": [
              "interactive(children=(IntSlider(value=7, description='Grade', max=13, min=1), Output()), _dom_classes=('widget…"
            ]
          },
          "metadata": {
            "tags": []
          }
        },
        {
          "output_type": "stream",
          "text": [
            "주택 등급이 \"1등급\" 올라갈때 \"Coefficient 정도의 금액\"도 \"같이 상승\"한다는 것을 알 수 있다.\n"
          ],
          "name": "stdout"
        }
      ]
    },
    {
      "cell_type": "markdown",
      "metadata": {
        "id": "ZX2KXHSnZXfk"
      },
      "source": [
        "### 5) sqft_living 특성을 사용하여 모델을 만들어 보고 두 모델을 비교해 보세요.\n",
        "- **sqft_living에 대한 회귀계수를 과제 제출폼에 제출하세요.**"
      ]
    },
    {
      "cell_type": "code",
      "metadata": {
        "id": "NNdMr9GwZXfl",
        "outputId": "7c8690dd-0c10-424d-da9a-e954dd5eb194"
      },
      "source": [
        "# prediction model\n",
        "sl_model = LinearRegression()\n",
        "\n",
        "# feature table / target vector\n",
        "sl_f = ['sqft_living']\n",
        "sl_t = ['price']\n",
        "\n",
        "# feature = grade / target = price\n",
        "x_train = df[sl_f]\n",
        "y_train = df[sl_t]\n",
        "\n",
        "# learning model\n",
        "sl_model.fit(x_train, y_train)"
      ],
      "execution_count": null,
      "outputs": [
        {
          "output_type": "execute_result",
          "data": {
            "text/plain": [
              "LinearRegression()"
            ]
          },
          "metadata": {
            "tags": []
          },
          "execution_count": 98
        }
      ]
    },
    {
      "cell_type": "code",
      "metadata": {
        "id": "03iqF4SFFaCZ",
        "outputId": "e11837fc-92c1-48fd-d7a5-13e6f537ee69"
      },
      "source": [
        "# sqft_living Coefficient\n",
        "\n",
        "print('Coefficient with per sqft_living = {}\"'.format(int(sl_model.coef_[0][0])))"
      ],
      "execution_count": null,
      "outputs": [
        {
          "output_type": "stream",
          "text": [
            "Coefficient with per sqft_living = 280\"\n"
          ],
          "name": "stdout"
        }
      ]
    },
    {
      "cell_type": "code",
      "metadata": {
        "colab": {
          "referenced_widgets": [
            "7380a5078a414ceb922faaa25efeb4d2"
          ]
        },
        "id": "jkp6Pvz9FaCZ",
        "outputId": "3f942563-fe4e-4740-e20c-f6afefaf256e"
      },
      "source": [
        "@interact\n",
        "def living_to_pedict( sqft_living = (df['sqft_living'].min(),df['sqft_living'].max())):\n",
        "    f_pred = sl_model.predict([[sqft_living]])\n",
        "    pred = f\"{sqft_living} SQFT 면적의 주택 예상 가격 = ${int(f_pred[0])} (면적당 상승폭: ${int(sl_model.coef_[0])})\"\n",
        "    return pred\n",
        "\n",
        "print('스퀘어피트당 \"Coefficient 정도의 금액\"이 \"같이 상승\"한다.')"
      ],
      "execution_count": null,
      "outputs": [
        {
          "output_type": "display_data",
          "data": {
            "application/vnd.jupyter.widget-view+json": {
              "model_id": "7380a5078a414ceb922faaa25efeb4d2",
              "version_major": 2,
              "version_minor": 0
            },
            "text/plain": [
              "interactive(children=(IntSlider(value=6915, description='sqft_living', max=13540, min=290), Output()), _dom_cl…"
            ]
          },
          "metadata": {
            "tags": []
          }
        },
        {
          "output_type": "stream",
          "text": [
            "스퀘어피트당 \"Coefficient 정도의 금액\"이 \"같이 상승\"한다.\n"
          ],
          "name": "stdout"
        }
      ]
    },
    {
      "cell_type": "code",
      "metadata": {
        "id": "A9KCObOQFaCa",
        "outputId": "11ceeeee-c0ed-46c1-ec1e-92797a279835"
      },
      "source": [
        "## Grade modeling evaluation by MAE\n",
        "\n",
        "from sklearn.metrics import mean_absolute_error\n",
        "grade_mae = mean_absolute_error(x_grade_train, y_price_train)\n",
        "print('Grade를 활용한 모델링의 오류 크기 =  ${}'.format(int(grade_mae)))"
      ],
      "execution_count": null,
      "outputs": [
        {
          "output_type": "stream",
          "text": [
            "Grade를 활용한 모델링의 오류 크기 =  $540080\n"
          ],
          "name": "stdout"
        }
      ]
    },
    {
      "cell_type": "code",
      "metadata": {
        "id": "uJAW-SzJFaCa",
        "outputId": "e9018e8a-8359-4166-b7db-5753a30babe8"
      },
      "source": [
        "## sqft_living modeling evaluation by MAE\n",
        "\n",
        "from sklearn.metrics import mean_absolute_error\n",
        "sqft_mae = mean_absolute_error(x_train, y_train)\n",
        "print('스퀘어피트를 활용한 모델링의 오류 크기 =  ${}'.format(int(sqft_mae)))"
      ],
      "execution_count": null,
      "outputs": [
        {
          "output_type": "stream",
          "text": [
            "스퀘어피트를 활용한 모델링의 오류 크기 =  $538008\n"
          ],
          "name": "stdout"
        }
      ]
    },
    {
      "cell_type": "code",
      "metadata": {
        "id": "WCtBrJXGFaCb",
        "outputId": "e77430a7-8ac5-4dfc-ed2e-a5128c12ba44"
      },
      "source": [
        "print('스퀘어피트 모델링의 오류 ${}  <  등급활용 모델링의 오류 ${}'.format(int(sqft_mae),int(grade_mae)))\n",
        "print('즉, 오류 값이 더 작은 스퀘어피트 모델링이 근소하게 우위에 있다고 평가할 수 있다.')"
      ],
      "execution_count": null,
      "outputs": [
        {
          "output_type": "stream",
          "text": [
            "스퀘어피트 모델링의 오류 $538008  <  등급활용 모델링의 오류 $540080\n",
            "즉, 오류 값이 더 작은 스퀘어피트 모델링이 근소하게 우위에 있다고 평가할 수 있다.\n"
          ],
          "name": "stdout"
        }
      ]
    },
    {
      "cell_type": "markdown",
      "metadata": {
        "id": "yGEefQU6ZXfl"
      },
      "source": [
        "## 🔥도전과제\n",
        "\n",
        "### 6) 단순선형회귀모델을 만들기 위한 좋은 특성을 선택하기 위해 고려해야 하는 사항들에 대해 조사하고 서술하세요.\n",
        "\n",
        "### 7) OLS에 대해서 검색해 보고 본인의 이해를 녹여내어 10문장 내로 요약해 보세요."
      ]
    },
    {
      "cell_type": "markdown",
      "metadata": {
        "id": "S8aVqqDUZXfl"
      },
      "source": [
        "### A6) how select good feature for creating simple regression model\n",
        "\n",
        "첫번째는 도메인 지식을 활용하여 특성을 선택하거나 변형할 수 있겠다.\n",
        "\n",
        "예를 들어 금융업에서 종사한 사람은 주가와 순이익이 주어진 데이터에서\n",
        "\n",
        "EPS(주당순이익) 데이터를 생성하여 모델링에 적합한 특성으로 사용할 수 있다. \n",
        "\n",
        "\n",
        "두번째는 Filter 또는 Wrapper method 같은 방법으로 일일이 특성을 대입해보는 것이다.\n",
        "\n",
        "조합을 바꿔가면서 가장 모델링에 성능이 좋은 조합을 찾아낼 수 있다.\n",
        "\n",
        "\n",
        "세번째는 기존의 독립변수로부터 완전히 새로운 변수를 추출하는 방법이다.\n",
        "\n",
        "대표적으로 주성분분석 같은 차원축소법으로\n",
        "\n",
        "많은 복수의 독립변수들을 손실 없이 단순선형회귀분석을 가능하게 만드는 방법이다.\n",
        "\n",
        "하지만 이 경우 기존 독립변수들 간에 유의한 상관관계를 요구하며\n",
        "\n",
        "새로운 변수로 정의되었기 때문에, 원래의 각 독립변수가 어떤 영향을 미치는지 추론하기가 어려워진다."
      ]
    },
    {
      "cell_type": "markdown",
      "metadata": {
        "id": "QMHXwqkWFaCb"
      },
      "source": [
        "### A7) Ordinary Least Squares Method\n",
        "\n",
        "산점도로 데이터를 시각화했다면, 각 데이터가 위치한 지점의 추세선을 나타내는 회귀선을 그릴 수 있다.\n",
        "\n",
        "각 데이터가 회귀선에서 떨어진 격차를 잔차라고한다.\n",
        "\n",
        "이 잔차를 그냥 합산한다면 +와 -가 상쇄되어 의미가 없어진다.\n",
        "\n",
        "하지만 잔차를 제곱한다면 실제 데이터와 회귀선 사이의 차이를 직관적인 수치로 표현할 수 있고\n",
        "\n",
        "이것이 해당 회귀선이 정확한지에 대한 검증에 활용 할 수 있다."
      ]
    }
  ]
}
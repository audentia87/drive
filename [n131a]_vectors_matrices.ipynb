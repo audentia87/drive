{
  "nbformat": 4,
  "nbformat_minor": 0,
  "metadata": {
    "colab": {
      "name": "[n131a]_vectors_matrices.ipynb",
      "provenance": [],
      "collapsed_sections": [],
      "include_colab_link": true
    },
    "kernelspec": {
      "name": "python3",
      "display_name": "Python 3"
    }
  },
  "cells": [
    {
      "cell_type": "markdown",
      "metadata": {
        "id": "view-in-github",
        "colab_type": "text"
      },
      "source": [
        "<a href=\"https://colab.research.google.com/github/laprass/drive/blob/main/%5Bn131a%5D_vectors_matrices.ipynb\" target=\"_parent\"><img src=\"https://colab.research.google.com/assets/colab-badge.svg\" alt=\"Open In Colab\"/></a>"
      ]
    },
    {
      "cell_type": "markdown",
      "metadata": {
        "id": "Y7hxe5O-9ukJ"
      },
      "source": [
        "<img src='https://i.imgur.com/RDAD11M.png' width = '200' align = 'right'>\n",
        "\n",
        "## *DATA SCIENCE / SECTION 1 / SPRINT 3 / NOTE 1*\n",
        "\n",
        "# 📝 Assignment"
      ]
    },
    {
      "cell_type": "markdown",
      "metadata": {
        "id": "yXA3GwWhY9KL"
      },
      "source": [
        "# 1. Portfolio\n",
        "\n",
        "`Dot product` & `Matrix Multiplication` 을 이용하여 다음 포트폴리오의 사람별 총합을 계산하세요.\n",
        "- 결과는 `res`에 list형태로 저장합니다.\n",
        "\n",
        "|People|Name|Price|Amount|\n",
        "|:-:|:-:|:-:|:-:|\n",
        "|X|A|100|35|\n",
        "|X|B|500|10|\n",
        "|X|C|250|25|\n",
        "|X|D|50|40|\n",
        "|Y|A|100|-|\n",
        "|Y|B|500|50|\n",
        "|Y|C|250|50|\n",
        "|Y|D|50|-|\n",
        "|Z|A|100|-|\n",
        "|Z|B|500|-|\n",
        "|Z|C|250|100|\n",
        "|Z|D|50|-|\n",
        "\n"
      ]
    },
    {
      "cell_type": "code",
      "metadata": {
        "id": "ErSR5soVblfv"
      },
      "source": [
        "import pandas as pd\r\n",
        "import numpy as np"
      ],
      "execution_count": 23,
      "outputs": []
    },
    {
      "cell_type": "code",
      "metadata": {
        "id": "RyJAj6SioxGQ"
      },
      "source": [
        "# 예제 데이터프레임 \r\n",
        "df = pd.DataFrame({'People':['X','X','X','X','Y','Y','Y','Y','Z','Z','Z','Z'], \r\n",
        "                   'Name':['A','B','C','D','A','B','C','D','A','B','C','D'],\r\n",
        "                   'Price':[100,500,250,50,100,500,250,50,100,500,250,50],\r\n",
        "                   'Amount':[35,10,25,40,0,50,50,0,0,0,100,0]})"
      ],
      "execution_count": 24,
      "outputs": []
    },
    {
      "cell_type": "code",
      "metadata": {
        "colab": {
          "base_uri": "https://localhost:8080/"
        },
        "id": "5OB62LJtoy3w",
        "outputId": "bb0fa4aa-3e63-4794-f5a9-761badbcf8ff"
      },
      "source": [
        "# Dot product 활용\r\n",
        "\r\n",
        "people = ['X','Y','Z']\r\n",
        "\r\n",
        "def dot_pro(value):\r\n",
        "    sum = 0\r\n",
        "    sort = df[df['People'] == value]\r\n",
        "    price = sort['Price']         # x의 price에 대한 행렬\r\n",
        "    amount = sort['Amount']       # x의 amount에 대한 행렬\r\n",
        "    total = np.dot(price, amount) # np.dot으로 내적계산 \r\n",
        "    sum += total\r\n",
        "    return sum\r\n",
        "\r\n",
        "dot_x = dot_pro(people[0])\r\n",
        "dot_y = dot_pro(people[1])\r\n",
        "dot_z = dot_pro(people[2])\r\n",
        "\r\n",
        "print('X의 총합은 {}, Y의 총합은 {}, Z의 총합은 {}'.format(dot_x,dot_y,dot_z))"
      ],
      "execution_count": 25,
      "outputs": [
        {
          "output_type": "stream",
          "text": [
            "X의 총합은 16750, Y의 총합은 37500, Z의 총합은 25000\n"
          ],
          "name": "stdout"
        }
      ]
    },
    {
      "cell_type": "code",
      "metadata": {
        "colab": {
          "base_uri": "https://localhost:8080/"
        },
        "id": "T-b_pj-Coztm",
        "outputId": "e4e6df23-ac6c-4007-f705-8156c8abd6a5"
      },
      "source": [
        "res = [dot_x, dot_y, dot_z]\r\n",
        "((res == np.array([16750, 37500, 25000])).sum() == 3)"
      ],
      "execution_count": 26,
      "outputs": [
        {
          "output_type": "execute_result",
          "data": {
            "text/plain": [
              "True"
            ]
          },
          "metadata": {
            "tags": []
          },
          "execution_count": 26
        }
      ]
    },
    {
      "cell_type": "code",
      "metadata": {
        "colab": {
          "base_uri": "https://localhost:8080/"
        },
        "id": "G3EVAQ77o25A",
        "outputId": "60db3aaf-6a4a-4cf3-f736-78adb218d6b1"
      },
      "source": [
        "# Matrix Multiplication 활용\r\n",
        "\r\n",
        "def mat_multi(value):\r\n",
        "    sum = 0\r\n",
        "    sort = df[df['People'] == value]\r\n",
        "    price = sort['Price']         # x의 price에 대한 행렬\r\n",
        "    amount = sort['Amount']       # x의 amount에 대한 행렬\r\n",
        "    total = np.multiply(price, amount).sum() # np.multiply로 Matrix Multiplication \r\n",
        "    sum += total\r\n",
        "    return sum\r\n",
        "\r\n",
        "mat_x = mat_multi(people[0])\r\n",
        "mat_y = mat_multi(people[1])\r\n",
        "mat_z = mat_multi(people[2])\r\n",
        "\r\n",
        "print('X의 총합은 {}, Y의 총합은 {}, Z의 총합은 {}'.format(mat_x,mat_y,mat_z))"
      ],
      "execution_count": 27,
      "outputs": [
        {
          "output_type": "stream",
          "text": [
            "X의 총합은 16750, Y의 총합은 37500, Z의 총합은 25000\n"
          ],
          "name": "stdout"
        }
      ]
    },
    {
      "cell_type": "code",
      "metadata": {
        "id": "jcOu0_Tqo4vG"
      },
      "source": [
        "# Dot product와 Matrix mulit은 동일한 값을 구할 수 있다.\r\n",
        "# 단, 분명히 예외적인 상황에서는 다른 값이 나올 것 같다. (이 부분은 좀더 공부)"
      ],
      "execution_count": 32,
      "outputs": []
    },
    {
      "cell_type": "code",
      "metadata": {
        "colab": {
          "base_uri": "https://localhost:8080/"
        },
        "id": "_OTYYgaTvcm_",
        "outputId": "fd8a81dc-2b7e-4cbe-e900-7bc9a8419dd4"
      },
      "source": [
        "# 제출폼 1번 문항\r\n",
        "\r\n",
        "min(res)"
      ],
      "execution_count": 33,
      "outputs": [
        {
          "output_type": "execute_result",
          "data": {
            "text/plain": [
              "16750"
            ]
          },
          "metadata": {
            "tags": []
          },
          "execution_count": 33
        }
      ]
    },
    {
      "cell_type": "markdown",
      "metadata": {
        "id": "dMgAVgIuGe_B"
      },
      "source": [
        "# 2. Norms\n",
        "\n",
        "주어진 값 $x_0, x_1, ... x_n$ 를 element로 갖는 벡터 $v$에 대하여 \n",
        "\n",
        "$L_1$ Norm 의 정의는 다음과 같습니다. \n",
        "\n",
        "$|v| = |x_0| + |x_1| + ... + |x_n|$\n",
        "\n",
        "$L_2$ Norm 의 정의는 다음과 같습니다.\n",
        "\n",
        "$||v|| = \\sqrt {{x_0}^2 + {x_1}^2 + ... + {x_n}^2}$\n",
        "\n",
        "이를 참조하여 주어진 벡터에 대해서 $L_2$ Norm 의 값과 $L_1$ Norm 의 값의 차이(절대값)를 계산하는 함수를 만드세요.\n",
        "\n"
      ]
    },
    {
      "cell_type": "code",
      "metadata": {
        "id": "XrYfAExIGemC"
      },
      "source": [
        "def NormDif(v): # v = np.array()\n",
        "    v1 = 0\n",
        "    v2 = 0\n",
        "    for i in v:\n",
        "        v1 += np.abs(i) # L1 : 절대값\n",
        "        v2 += np.square(i) # L2 : 제곱\n",
        "    v2_f = np.sqrt(v2) # L2 : 합계 제곱근\n",
        "    fin = v2_f - v1 # 절대값 차이  \n",
        "    return np.abs(fin) "
      ],
      "execution_count": 29,
      "outputs": []
    },
    {
      "cell_type": "code",
      "metadata": {
        "colab": {
          "base_uri": "https://localhost:8080/"
        },
        "id": "OU_gAmxKo7Wd",
        "outputId": "b0e47adf-d3bf-4f59-9aec-5d3e89bc9214"
      },
      "source": [
        "(NormDif(np.array([1, -2, 2])) == 2)"
      ],
      "execution_count": 34,
      "outputs": [
        {
          "output_type": "execute_result",
          "data": {
            "text/plain": [
              "True"
            ]
          },
          "metadata": {
            "tags": []
          },
          "execution_count": 34
        }
      ]
    },
    {
      "cell_type": "code",
      "metadata": {
        "colab": {
          "base_uri": "https://localhost:8080/"
        },
        "id": "D0SmtId9ve24",
        "outputId": "41b5450a-d140-4351-8142-4fd009bbb15d"
      },
      "source": [
        "#제출폼 2번 문항\r\n",
        "\r\n",
        "round(NormDif(np.array([1,2,3,4])),3)"
      ],
      "execution_count": 35,
      "outputs": [
        {
          "output_type": "execute_result",
          "data": {
            "text/plain": [
              "4.523"
            ]
          },
          "metadata": {
            "tags": []
          },
          "execution_count": 35
        }
      ]
    },
    {
      "cell_type": "markdown",
      "metadata": {
        "id": "VBJHWdyalU4G"
      },
      "source": [
        "## 3. Errors\n",
        "\n",
        "\n",
        "\n",
        "- 2개의 벡터와, error의 타입을 입력받아 그 결과값을 계산하는 함수를 작성하세요.\n",
        "\n",
        "- 여기서 error의 타입은 `MSE`, `MAE` 2가지 입니다.\n",
        "\n"
      ]
    },
    {
      "cell_type": "code",
      "metadata": {
        "id": "LQy8_pEUHHDC"
      },
      "source": [
        "# MAE (Mean Absolute Error) : 절대 평균 오차 (오차는 실제 값과 예측 값의 차이), 낮을 수록 좋음\n",
        "# MSE (Mean Squared Error) : 평균 제곱 오차), 낮을 수록 좋음\n",
        "# 참고 : https://wikidocs.net/43295\n",
        "\n",
        "def error(x, y, type) :\n",
        "    if type == 'MAE':\n",
        "        return np.abs(x-y).sum() / len(x)\n",
        "    if type == 'MSE':\n",
        "        return np.square(x-y).sum() / len(x)"
      ],
      "execution_count": 31,
      "outputs": []
    },
    {
      "cell_type": "code",
      "metadata": {
        "colab": {
          "base_uri": "https://localhost:8080/"
        },
        "id": "hrpEg5Tvo9Um",
        "outputId": "8bfad913-4015-477d-be91-344d5ee2e431"
      },
      "source": [
        "(error(np.array([1, 2, 4]), np.array([3, 4, 3]), 'MSE') == 9/3)"
      ],
      "execution_count": null,
      "outputs": [
        {
          "output_type": "execute_result",
          "data": {
            "text/plain": [
              "True"
            ]
          },
          "metadata": {
            "tags": []
          },
          "execution_count": 11
        }
      ]
    },
    {
      "cell_type": "code",
      "metadata": {
        "colab": {
          "base_uri": "https://localhost:8080/"
        },
        "id": "IWKUXvL9pAEO",
        "outputId": "c56a603d-703b-414e-8ae2-2bb09a7ecbf0"
      },
      "source": [
        "(error(np.array([1, 2, 4]), np.array([3, 4, 3]), 'MAE') == 5/3)"
      ],
      "execution_count": 36,
      "outputs": [
        {
          "output_type": "execute_result",
          "data": {
            "text/plain": [
              "True"
            ]
          },
          "metadata": {
            "tags": []
          },
          "execution_count": 36
        }
      ]
    },
    {
      "cell_type": "code",
      "metadata": {
        "colab": {
          "base_uri": "https://localhost:8080/"
        },
        "id": "aZzVlez_vhin",
        "outputId": "77948322-5db5-436b-a6d9-1f70aeaa1173"
      },
      "source": [
        "# 제출폼 3번 문항\r\n",
        "\r\n",
        "round(error(np.array([5, 10, 30]), np.array([21, 2, 8]), 'MSE'),3)"
      ],
      "execution_count": 37,
      "outputs": [
        {
          "output_type": "execute_result",
          "data": {
            "text/plain": [
              "268.0"
            ]
          },
          "metadata": {
            "tags": []
          },
          "execution_count": 37
        }
      ]
    },
    {
      "cell_type": "markdown",
      "metadata": {
        "id": "l2Teph_aS16e"
      },
      "source": [
        "# 4. Inverse\n",
        "\n",
        "- 주어진 matrix에 대해서 inverse matrix를 계산하여 반환하는 함수를 작성하세요. \n",
        "- 이 때 inverse 계산이 불가능 한 경우 `-1` 을 반환합니다."
      ]
    },
    {
      "cell_type": "code",
      "metadata": {
        "id": "1hseshZkS1eX"
      },
      "source": [
        "# 바퀴부터 만들지 말라고 해서 lin.inv(역행렬 메소드)를 썼습니다.\n",
        "# 참고1 : https://pinkwink.kr/720\n",
        "# 참고2 : https://rfriend.tistory.com/380\n",
        "\n",
        "import numpy.linalg as lin\n",
        "\n",
        "def myInverse(m) :\n",
        "    non = np.linalg.det(m) # non 값이 0이라면 역행렬이 존재하지 않는다.\n",
        "    row = m.shape[0]\n",
        "    col = m.shape[1]\n",
        "    if non == 0:           \n",
        "        return -1\n",
        "    elif row == col:       # 정방행렬이 아니라면 역행렬이 존재하지 않는다.\n",
        "        return lin.inv(m)  # 역행렬을 구한다.\n",
        "    else :\n",
        "        return -1"
      ],
      "execution_count": 38,
      "outputs": []
    },
    {
      "cell_type": "code",
      "metadata": {
        "colab": {
          "base_uri": "https://localhost:8080/"
        },
        "id": "q7sKSyGWpB1k",
        "outputId": "d425b7af-140d-4e6d-ff80-d5c070ba2266"
      },
      "source": [
        "np.allclose(myInverse(np.array([[1,2],[3,4]])), np.array([[-2, 1], [1.5, -0.5]]))"
      ],
      "execution_count": 39,
      "outputs": [
        {
          "output_type": "execute_result",
          "data": {
            "text/plain": [
              "True"
            ]
          },
          "metadata": {
            "tags": []
          },
          "execution_count": 39
        }
      ]
    },
    {
      "cell_type": "code",
      "metadata": {
        "colab": {
          "base_uri": "https://localhost:8080/"
        },
        "id": "NmAzOvNxvkYo",
        "outputId": "8fe56e64-0459-4f3e-9c60-36ce369df5e4"
      },
      "source": [
        "# 제출폼 4번 문항\r\n",
        "\r\n",
        "ex = np.array([[2,4],[4,8]])\r\n",
        "\r\n",
        "myInverse(ex)"
      ],
      "execution_count": 40,
      "outputs": [
        {
          "output_type": "execute_result",
          "data": {
            "text/plain": [
              "-1"
            ]
          },
          "metadata": {
            "tags": []
          },
          "execution_count": 40
        }
      ]
    },
    {
      "cell_type": "markdown",
      "metadata": {
        "id": "j6znnEAIT_ru"
      },
      "source": [
        "## Grading\n",
        "\n",
        "이전 과제를 완료했다면, 아래의 코드를 실행하세요.\n",
        "\n"
      ]
    },
    {
      "cell_type": "code",
      "metadata": {
        "id": "gJUasCPIFJFZ"
      },
      "source": [
        "def grade(res, NormDif, error, myInverse):\n",
        "  score = 0\n",
        "  score += ((res == np.array([16750, 37500, 25000])).sum() == 3)\n",
        "\n",
        "  score += (NormDif(np.array([1, -2, 2])) == 2)\n",
        "\n",
        "  score += (error(np.array([1, 2, 4]), np.array([3, 4, 3]), 'MSE') == 9/3)\n",
        "  score += (error(np.array([1, 2, 4]), np.array([3, 4, 3]), 'MAE') == 5/3)\n",
        "  \n",
        "  score += np.allclose(myInverse(np.array([[1,2],[3,4]])), np.array([[-2, 1], [1.5, -0.5]]))\n",
        "  \n",
        "  return(score)"
      ],
      "execution_count": 41,
      "outputs": []
    },
    {
      "cell_type": "code",
      "metadata": {
        "id": "cFYfu7bRUGOJ",
        "colab": {
          "base_uri": "https://localhost:8080/"
        },
        "outputId": "377b7a3d-8356-47c7-903e-ff00ac0155c1"
      },
      "source": [
        "grade(res, NormDif, error, myInverse)"
      ],
      "execution_count": 42,
      "outputs": [
        {
          "output_type": "execute_result",
          "data": {
            "text/plain": [
              "5"
            ]
          },
          "metadata": {
            "tags": []
          },
          "execution_count": 42
        }
      ]
    },
    {
      "cell_type": "markdown",
      "metadata": {
        "id": "V0iTO4McYjtk"
      },
      "source": [
        "# 🔥 도전과제 \n",
        "\n"
      ]
    },
    {
      "cell_type": "markdown",
      "metadata": {
        "id": "3p45qAIGFTBZ"
      },
      "source": [
        "다음 링크의 내용을 참조하여 **Cramer's rule**을 사용해 $x_1$, $x_2$, $x_3$의 값을 구하세요.\n",
        "\n",
        "<https://youtu.be/6StS7VjtuGI>\n",
        "\n",
        "\n",
        "$x_1$ + $2x_3$ = 6\n",
        "\n",
        "$-3x_1$ + $4x_2$ + $6x3$ = 30\n",
        "\n",
        "$-x_1$ $-2x_2$ + $3x_3$ = 8\n",
        "\n"
      ]
    },
    {
      "cell_type": "code",
      "metadata": {
        "id": "7UYFLZwSpLHv"
      },
      "source": [
        "# 참고 : https://blog.naver.com/choi_s_h/221674090949\r\n",
        "# 첫번쨰 방정식에서 'x2=0'이라고 가정한다.\r\n",
        "# 답은 1x3 행렬로 볼 수 있다.\r\n",
        "# 따라서 3x3 행렬과 1x3의 행렬의 곱셈으로 이루어진 1x3 행렬의 답으로 해석된다.\r\n",
        "\r\n",
        "# convert 연립방정식 to matrix\r\n",
        "mat1 = np.array([[1,0,2],[-3,4,6],[-1,-2,3]])\r\n",
        "mat2 = np.array(['x1','x2','x3'])\r\n",
        "mat3 = np.array([6,30,8])"
      ],
      "execution_count": 43,
      "outputs": []
    },
    {
      "cell_type": "code",
      "metadata": {
        "id": "BoAuhI_6pLce",
        "colab": {
          "base_uri": "https://localhost:8080/"
        },
        "outputId": "1dfc5f83-5623-482b-8dab-3838922170b1"
      },
      "source": [
        "conclusion = np.linalg.solve(mat1,mat3)\r\n",
        "x1 = round(conclusion[0],2)\r\n",
        "x2 = round(conclusion[1],2)\r\n",
        "x3 = round(conclusion[2],2)\r\n",
        "print('(x1 = {}), (x2 = {}), (x3 = {})'.format(x1,x2,x3))"
      ],
      "execution_count": 44,
      "outputs": [
        {
          "output_type": "stream",
          "text": [
            "(x1 = -0.91), (x2 = 1.64), (x3 = 3.45)\n"
          ],
          "name": "stdout"
        }
      ]
    }
  ]
}
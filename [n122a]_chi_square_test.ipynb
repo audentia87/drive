{
  "nbformat": 4,
  "nbformat_minor": 0,
  "metadata": {
    "colab": {
      "name": "[n122a]-chi-square-test.ipynb",
      "provenance": [],
      "collapsed_sections": [],
      "include_colab_link": true
    },
    "kernelspec": {
      "name": "python3",
      "display_name": "Python 3"
    }
  },
  "cells": [
    {
      "cell_type": "markdown",
      "metadata": {
        "id": "view-in-github",
        "colab_type": "text"
      },
      "source": [
        "<a href=\"https://colab.research.google.com/github/laprass/drive/blob/main/%5Bn122a%5D_chi_square_test.ipynb\" target=\"_parent\"><img src=\"https://colab.research.google.com/assets/colab-badge.svg\" alt=\"Open In Colab\"/></a>"
      ]
    },
    {
      "cell_type": "markdown",
      "metadata": {
        "id": "rQf3dSuc5PqO"
      },
      "source": [
        "<img src='https://i.imgur.com/RDAD11M.png' width = '200' align = 'right'>\n",
        "\n",
        "## *DATA SCIENCE / SECTION 1 / SPRINT 2 / NOTE 2*\n",
        "\n",
        "# 📝 Assignment"
      ]
    },
    {
      "cell_type": "markdown",
      "metadata": {
        "id": "11OzdxWTM7UR"
      },
      "source": [
        "\n",
        "## 1. 공공데이터 조작 연습. \n",
        "\n",
        "국가 통계 포털에서 아래 이미지를 참조하여\n",
        "\n",
        "<https://kosis.kr/statisticsList/statisticsListIndex.do?menuId=M_01_01&vwcd=MT_ZTITLE&parmTabId=M_01_01#SelectStatsBoxDiv>\n",
        "\n",
        "**2020년 8월**에 해당하는 규모별 미분양현황 에 대한 데이터셋을 생성하세요. \n",
        "\n",
        "<img src='https://i.imgur.com/aZc4UJO.png' width = 500>\n",
        "\n",
        "- `60m이하`, `60~85m`, `85m초과`의 3개 규모와 (column)\n",
        "- `서울`, `대전`, `대구`, `부산` 4개의 지역을 포함해야합니다. (row)\n",
        "- 데이터가 없는 경우는 0으로 처리하세요.\n",
        "\n",
        "이후 데이터셋을 colab으로 불러오세요. 이때 변수의 이름은 `df`를 사용합니다.\n"
      ]
    },
    {
      "cell_type": "code",
      "metadata": {
        "id": "IhWdLFndyVAB",
        "colab": {
          "base_uri": "https://localhost:8080/",
          "height": 308
        },
        "outputId": "9356efbe-cb93-4391-eee0-d7246ba59409"
      },
      "source": [
        "!pip install --upgrade scipy"
      ],
      "execution_count": 55,
      "outputs": [
        {
          "output_type": "stream",
          "text": [
            "Collecting scipy\n",
            "\u001b[?25l  Downloading https://files.pythonhosted.org/packages/b6/3a/9e0649ab2d5ade703baa70ef980aa08739226e5d6a642f084bb201a92fc2/scipy-1.6.1-cp37-cp37m-manylinux1_x86_64.whl (27.4MB)\n",
            "\u001b[K     |████████████████████████████████| 27.4MB 150kB/s \n",
            "\u001b[?25hRequirement already satisfied, skipping upgrade: numpy>=1.16.5 in /usr/local/lib/python3.7/dist-packages (from scipy) (1.19.5)\n",
            "\u001b[31mERROR: albumentations 0.1.12 has requirement imgaug<0.2.7,>=0.2.5, but you'll have imgaug 0.2.9 which is incompatible.\u001b[0m\n",
            "Installing collected packages: scipy\n",
            "  Found existing installation: scipy 1.4.1\n",
            "    Uninstalling scipy-1.4.1:\n",
            "      Successfully uninstalled scipy-1.4.1\n",
            "Successfully installed scipy-1.6.1\n"
          ],
          "name": "stdout"
        },
        {
          "output_type": "display_data",
          "data": {
            "application/vnd.colab-display-data+json": {
              "pip_warning": {
                "packages": [
                  "scipy"
                ]
              }
            }
          },
          "metadata": {
            "tags": []
          }
        }
      ]
    },
    {
      "cell_type": "code",
      "metadata": {
        "id": "VikKHX-8bLw4"
      },
      "source": [
        "import pandas as pd\r\n",
        "import numpy as np\r\n",
        "import scipy as sp\r\n",
        "from scipy import stats"
      ],
      "execution_count": 40,
      "outputs": []
    },
    {
      "cell_type": "code",
      "metadata": {
        "colab": {
          "base_uri": "https://localhost:8080/",
          "height": 204
        },
        "id": "2tQ7AKSCZeDA",
        "outputId": "58b914c7-c6e7-40ef-eb59-4609600b27f8"
      },
      "source": [
        "# 1/4 : 데이터 불러오기\r\n",
        "url = 'https://raw.githubusercontent.com/laprass/drive/main/house.csv'\r\n",
        "df = pd.read_csv(url, encoding='utf-8')\r\n",
        "df = df.reindex(index=[0,3,2,1]) # 서울 대전 대구 부산 순서로 행순서 변경 (https://k-glory.tistory.com/21)\r\n",
        "df = df.set_index('시도') # 지역으로 인덱스 지정\r\n",
        "df"
      ],
      "execution_count": 92,
      "outputs": [
        {
          "output_type": "execute_result",
          "data": {
            "text/html": [
              "<div>\n",
              "<style scoped>\n",
              "    .dataframe tbody tr th:only-of-type {\n",
              "        vertical-align: middle;\n",
              "    }\n",
              "\n",
              "    .dataframe tbody tr th {\n",
              "        vertical-align: top;\n",
              "    }\n",
              "\n",
              "    .dataframe thead th {\n",
              "        text-align: right;\n",
              "    }\n",
              "</style>\n",
              "<table border=\"1\" class=\"dataframe\">\n",
              "  <thead>\n",
              "    <tr style=\"text-align: right;\">\n",
              "      <th></th>\n",
              "      <th>60</th>\n",
              "      <th>60-85</th>\n",
              "      <th>85</th>\n",
              "    </tr>\n",
              "    <tr>\n",
              "      <th>시도</th>\n",
              "      <th></th>\n",
              "      <th></th>\n",
              "      <th></th>\n",
              "    </tr>\n",
              "  </thead>\n",
              "  <tbody>\n",
              "    <tr>\n",
              "      <th>서울</th>\n",
              "      <td>54</td>\n",
              "      <td>2</td>\n",
              "      <td>0</td>\n",
              "    </tr>\n",
              "    <tr>\n",
              "      <th>대전</th>\n",
              "      <td>782</td>\n",
              "      <td>1</td>\n",
              "      <td>0</td>\n",
              "    </tr>\n",
              "    <tr>\n",
              "      <th>대구</th>\n",
              "      <td>143</td>\n",
              "      <td>1437</td>\n",
              "      <td>44</td>\n",
              "    </tr>\n",
              "    <tr>\n",
              "      <th>부산</th>\n",
              "      <td>577</td>\n",
              "      <td>735</td>\n",
              "      <td>142</td>\n",
              "    </tr>\n",
              "  </tbody>\n",
              "</table>\n",
              "</div>"
            ],
            "text/plain": [
              "     60  60-85   85\n",
              "시도                 \n",
              "서울   54      2    0\n",
              "대전  782      1    0\n",
              "대구  143   1437   44\n",
              "부산  577    735  142"
            ]
          },
          "metadata": {
            "tags": []
          },
          "execution_count": 92
        }
      ]
    },
    {
      "cell_type": "code",
      "metadata": {
        "colab": {
          "base_uri": "https://localhost:8080/",
          "height": 222
        },
        "id": "orpaNmLqZghG",
        "outputId": "5e9c5240-71bc-4a69-9f5b-1dcd57700c54"
      },
      "source": [
        "print(df.shape)\r\n",
        "df\r\n",
        "# 1/4 완료 (2/7)"
      ],
      "execution_count": 93,
      "outputs": [
        {
          "output_type": "stream",
          "text": [
            "(4, 3)\n"
          ],
          "name": "stdout"
        },
        {
          "output_type": "execute_result",
          "data": {
            "text/html": [
              "<div>\n",
              "<style scoped>\n",
              "    .dataframe tbody tr th:only-of-type {\n",
              "        vertical-align: middle;\n",
              "    }\n",
              "\n",
              "    .dataframe tbody tr th {\n",
              "        vertical-align: top;\n",
              "    }\n",
              "\n",
              "    .dataframe thead th {\n",
              "        text-align: right;\n",
              "    }\n",
              "</style>\n",
              "<table border=\"1\" class=\"dataframe\">\n",
              "  <thead>\n",
              "    <tr style=\"text-align: right;\">\n",
              "      <th></th>\n",
              "      <th>60</th>\n",
              "      <th>60-85</th>\n",
              "      <th>85</th>\n",
              "    </tr>\n",
              "    <tr>\n",
              "      <th>시도</th>\n",
              "      <th></th>\n",
              "      <th></th>\n",
              "      <th></th>\n",
              "    </tr>\n",
              "  </thead>\n",
              "  <tbody>\n",
              "    <tr>\n",
              "      <th>서울</th>\n",
              "      <td>54</td>\n",
              "      <td>2</td>\n",
              "      <td>0</td>\n",
              "    </tr>\n",
              "    <tr>\n",
              "      <th>대전</th>\n",
              "      <td>782</td>\n",
              "      <td>1</td>\n",
              "      <td>0</td>\n",
              "    </tr>\n",
              "    <tr>\n",
              "      <th>대구</th>\n",
              "      <td>143</td>\n",
              "      <td>1437</td>\n",
              "      <td>44</td>\n",
              "    </tr>\n",
              "    <tr>\n",
              "      <th>부산</th>\n",
              "      <td>577</td>\n",
              "      <td>735</td>\n",
              "      <td>142</td>\n",
              "    </tr>\n",
              "  </tbody>\n",
              "</table>\n",
              "</div>"
            ],
            "text/plain": [
              "     60  60-85   85\n",
              "시도                 \n",
              "서울   54      2    0\n",
              "대전  782      1    0\n",
              "대구  143   1437   44\n",
              "부산  577    735  142"
            ]
          },
          "metadata": {
            "tags": []
          },
          "execution_count": 93
        }
      ]
    },
    {
      "cell_type": "markdown",
      "metadata": {
        "id": "RXPZZuAi3ccI"
      },
      "source": [
        "## 2. 지역에 대해서 one-sample chi-square test를 실행, 해당 결과를 `chi1`에 저장 후 설명해보세요.\n",
        "\n",
        "9월달 데이터를 기준으로 한다면\n",
        "```python\n",
        " [0+0+0+52+2+0, 0+0+0+590+665+142, 0+0+0+113+1061+42, 0+0+0+772+1+0]\n",
        "```\n",
        "을 비교해야할겁니다.\n",
        "\n",
        "\n"
      ]
    },
    {
      "cell_type": "code",
      "metadata": {
        "id": "oIMzAkXks-Sv"
      },
      "source": [
        "# 2/4 : 원사이드 카이제곱 검정, 결과값은 'chi1'\r\n",
        "## 카이제곱 공부하기 : https://blog.naver.com/moses3650/221192466252\r\n",
        "\r\n",
        "## Ho : 지역에 따라 미분양수에 차이는 없다.\r\n",
        "## H1 : 차이가 있다!\r\n",
        "\r\n",
        "# 행단위 데이터 읽어오기 : https://devpouch.tistory.com/47\r\n",
        "# df.iloc[0] "
      ],
      "execution_count": 43,
      "outputs": []
    },
    {
      "cell_type": "code",
      "metadata": {
        "colab": {
          "base_uri": "https://localhost:8080/",
          "height": 204
        },
        "id": "wOwNg4-4ZlRm",
        "outputId": "54c5531a-cf6c-4192-d22d-9fc321386b1f"
      },
      "source": [
        "## 지역별 기대값(평균) 구해서 데이터프레임으로 만들기\r\n",
        "#참고 코드 : https://nittaku.tistory.com/113\r\n",
        "# skipna = True : 결측값 없을때, 있으면 false\r\n",
        "\r\n",
        "df1 = df[['60','60-85','85']]\r\n",
        "df1['total'] = df['60']+df['60-85']+df['85']\r\n",
        "df1"
      ],
      "execution_count": 72,
      "outputs": [
        {
          "output_type": "execute_result",
          "data": {
            "text/html": [
              "<div>\n",
              "<style scoped>\n",
              "    .dataframe tbody tr th:only-of-type {\n",
              "        vertical-align: middle;\n",
              "    }\n",
              "\n",
              "    .dataframe tbody tr th {\n",
              "        vertical-align: top;\n",
              "    }\n",
              "\n",
              "    .dataframe thead th {\n",
              "        text-align: right;\n",
              "    }\n",
              "</style>\n",
              "<table border=\"1\" class=\"dataframe\">\n",
              "  <thead>\n",
              "    <tr style=\"text-align: right;\">\n",
              "      <th></th>\n",
              "      <th>60</th>\n",
              "      <th>60-85</th>\n",
              "      <th>85</th>\n",
              "      <th>total</th>\n",
              "    </tr>\n",
              "    <tr>\n",
              "      <th>시도</th>\n",
              "      <th></th>\n",
              "      <th></th>\n",
              "      <th></th>\n",
              "      <th></th>\n",
              "    </tr>\n",
              "  </thead>\n",
              "  <tbody>\n",
              "    <tr>\n",
              "      <th>서울</th>\n",
              "      <td>54</td>\n",
              "      <td>2</td>\n",
              "      <td>0</td>\n",
              "      <td>56</td>\n",
              "    </tr>\n",
              "    <tr>\n",
              "      <th>대전</th>\n",
              "      <td>782</td>\n",
              "      <td>1</td>\n",
              "      <td>0</td>\n",
              "      <td>783</td>\n",
              "    </tr>\n",
              "    <tr>\n",
              "      <th>대구</th>\n",
              "      <td>143</td>\n",
              "      <td>1437</td>\n",
              "      <td>44</td>\n",
              "      <td>1624</td>\n",
              "    </tr>\n",
              "    <tr>\n",
              "      <th>부산</th>\n",
              "      <td>577</td>\n",
              "      <td>735</td>\n",
              "      <td>142</td>\n",
              "      <td>1454</td>\n",
              "    </tr>\n",
              "  </tbody>\n",
              "</table>\n",
              "</div>"
            ],
            "text/plain": [
              "     60  60-85   85  total\n",
              "시도                        \n",
              "서울   54      2    0     56\n",
              "대전  782      1    0    783\n",
              "대구  143   1437   44   1624\n",
              "부산  577    735  142   1454"
            ]
          },
          "metadata": {
            "tags": []
          },
          "execution_count": 72
        }
      ]
    },
    {
      "cell_type": "code",
      "metadata": {
        "colab": {
          "base_uri": "https://localhost:8080/"
        },
        "id": "xLGTB2L9ZmPu",
        "outputId": "6a4a7983-628b-423f-aa5f-8dbce7099711"
      },
      "source": [
        "stats.chisquare(df1['total']) # 원래는 ()안에 관측값과 기대값이 (A,B) 형태로 들어가야된다. \r\n",
        "                              # 과제에서는 기대값이 관측값과 동일(합산)하므로 1개만 입력함"
      ],
      "execution_count": 73,
      "outputs": [
        {
          "output_type": "execute_result",
          "data": {
            "text/plain": [
              "Power_divergenceResult(statistic=1564.4572376818994, pvalue=0.0)"
            ]
          },
          "metadata": {
            "tags": []
          },
          "execution_count": 73
        }
      ]
    },
    {
      "cell_type": "code",
      "metadata": {
        "id": "oErqtdLmZncO"
      },
      "source": [
        "## p값이 0.0이므로 귀무가설은 기각, 대립가설 채택\r\n",
        "## 검증결론은 '지역별로 차이가 있다'"
      ],
      "execution_count": 46,
      "outputs": []
    },
    {
      "cell_type": "code",
      "metadata": {
        "colab": {
          "base_uri": "https://localhost:8080/"
        },
        "id": "O0iR8yMfaHNn",
        "outputId": "8acad0e6-b4fa-4473-e2ed-fab827440587"
      },
      "source": [
        "chi1 = stats.chisquare(df1['total'])\r\n",
        "round(chi1.statistic, 3)\r\n",
        "# 2/4 완료 "
      ],
      "execution_count": 74,
      "outputs": [
        {
          "output_type": "execute_result",
          "data": {
            "text/plain": [
              "1564.457"
            ]
          },
          "metadata": {
            "tags": []
          },
          "execution_count": 74
        }
      ]
    },
    {
      "cell_type": "markdown",
      "metadata": {
        "id": "eMDtugVNRu0q"
      },
      "source": [
        "## 3. 지역과 규모에 대해서 two-sample chi-square test를 실행, 해당 결과를 `chi2`에 저장 후 설명해보세요.\n",
        "\n",
        "9월달 데이터를 기준으로 한다면\n",
        "\n",
        "| |-60 | 60-85 | 85- |\n",
        "|:-:|:-:|:-:|:-:|\n",
        "|서울|52|2|0|\n",
        "|대전|772|1|0|\n",
        "|대구|113|1061|42|\n",
        "|부산|590|665|142|\n",
        "\n",
        "에 대해서 검정해야 할 겁니다.\n",
        "\n",
        "\n"
      ]
    },
    {
      "cell_type": "code",
      "metadata": {
        "id": "Ckcr4A4FM7cs"
      },
      "source": [
        "# 3/4 이원카이제곱검정, 결과값은 chi2\r\n",
        "\r\n",
        "## Ho : 지역과 규모 간에 관계가 없을 것이다.\r\n",
        "## H1 : 관계 있다! (=두 변수가 독립적이지 않다.)"
      ],
      "execution_count": 48,
      "outputs": []
    },
    {
      "cell_type": "code",
      "metadata": {
        "id": "S_yaTwByaK2l"
      },
      "source": [
        "df2= df1.drop(['total'], axis=1)"
      ],
      "execution_count": 75,
      "outputs": []
    },
    {
      "cell_type": "code",
      "metadata": {
        "colab": {
          "base_uri": "https://localhost:8080/"
        },
        "id": "eo6Kuot_aLtl",
        "outputId": "8b13f6e4-b86e-49c2-b424-e308903fe355"
      },
      "source": [
        "stats.chi2_contingency(df2) \r\n",
        "\r\n",
        "# 출력결과는 순서대로 (통계량, p값, 자유도 의미)"
      ],
      "execution_count": 76,
      "outputs": [
        {
          "output_type": "execute_result",
          "data": {
            "text/plain": [
              "(2064.5767314171994, 0.0, 6, array([[ 22.24559612,  31.09522594,   2.65917794],\n",
              "        [311.04110288, 434.77789124,  37.18100587],\n",
              "        [645.12228746, 901.76155221,  77.11616033],\n",
              "        [577.59101353, 807.36533061,  69.04365586]]))"
            ]
          },
          "metadata": {
            "tags": []
          },
          "execution_count": 76
        }
      ]
    },
    {
      "cell_type": "code",
      "metadata": {
        "colab": {
          "base_uri": "https://localhost:8080/"
        },
        "id": "gWXuYvdHaNiV",
        "outputId": "3c95075e-ee37-47f0-8ec9-b39750332067"
      },
      "source": [
        "chi2 = stats.chi2_contingency(df2) \r\n",
        "chi2[0]"
      ],
      "execution_count": 77,
      "outputs": [
        {
          "output_type": "execute_result",
          "data": {
            "text/plain": [
              "2064.5767314171994"
            ]
          },
          "metadata": {
            "tags": []
          },
          "execution_count": 77
        }
      ]
    },
    {
      "cell_type": "code",
      "metadata": {
        "id": "e7-OwjiPaMdO"
      },
      "source": [
        "## p값이 0.0이므로 귀무가설 기각, 대립가설 채택\r\n",
        "## 분양지역과 분양규모는 서로 독립적이지 않으며, 유기적관계로 추정할 수 있다.\r\n",
        "# 3/4 완료"
      ],
      "execution_count": 52,
      "outputs": []
    },
    {
      "cell_type": "markdown",
      "metadata": {
        "id": "Tf7XPpBP6YqX"
      },
      "source": [
        "### 4. 2번에 대해서 NumPy 를 사용하여 (Scipy를 사용하지 않고) $\\chi^2$ test 시행 후 2번의 결과와 비교해보세요. \n",
        "\n",
        "- `obs`, `exp`, `chi`라는 변수를 사용해야합니다.\n",
        "\n",
        "이 후 `chi2_contingency()`의 결과물과 비교해보세요"
      ]
    },
    {
      "cell_type": "code",
      "metadata": {
        "id": "OjFt0b1-wrFL"
      },
      "source": [
        "# 4/4 numpy만 사용해서 카이제곱 시행, 지역에 대한 일원 카이검정과 비교\r\n",
        "# obs = 관측치 / exp = 기대값 / chi = 카이제곱값"
      ],
      "execution_count": 78,
      "outputs": []
    },
    {
      "cell_type": "code",
      "metadata": {
        "colab": {
          "base_uri": "https://localhost:8080/"
        },
        "id": "xi-B3la5aenm",
        "outputId": "67b62500-96fc-4b70-ca9d-c1b2e738976c"
      },
      "source": [
        "# 관측치를 저장한다.\r\n",
        "\r\n",
        "obs = df1['total']\r\n",
        "obs"
      ],
      "execution_count": 79,
      "outputs": [
        {
          "output_type": "execute_result",
          "data": {
            "text/plain": [
              "시도\n",
              "서울      56\n",
              "대전     783\n",
              "대구    1624\n",
              "부산    1454\n",
              "Name: total, dtype: int64"
            ]
          },
          "metadata": {
            "tags": []
          },
          "execution_count": 79
        }
      ]
    },
    {
      "cell_type": "code",
      "metadata": {
        "colab": {
          "base_uri": "https://localhost:8080/"
        },
        "id": "HdeFnIMBafqO",
        "outputId": "5103e97a-fff4-492f-a8fc-9d61038b5bf3"
      },
      "source": [
        "# 기대값(평균)을 추가한다.\r\n",
        "\r\n",
        "total_sum = df1['total'].sum() # 전체 미분양 총합\r\n",
        "total_count = len(df1['total']) # 지역 갯수 카운트 https://rfriend.tistory.com/450\r\n",
        "exp = total_sum / len(df1['total']) # 기대값의 총합에서 데이터 갯수를 나눠 평균 구하기\r\n",
        "exp"
      ],
      "execution_count": 80,
      "outputs": [
        {
          "output_type": "execute_result",
          "data": {
            "text/plain": [
              "979.25"
            ]
          },
          "metadata": {
            "tags": []
          },
          "execution_count": 80
        }
      ]
    },
    {
      "cell_type": "code",
      "metadata": {
        "colab": {
          "base_uri": "https://localhost:8080/"
        },
        "id": "fb2h9FUWagde",
        "outputId": "6655c5ed-2b8a-415b-ce5a-1eace1a8b6f9"
      },
      "source": [
        "# # numpy를 사용해 카이제곱 값을 구한다. https://nittaku.tistory.com/108\r\n",
        "\r\n",
        "sl = np.square(obs[0] - exp) / exp # 서울의 카이제곱\r\n",
        "dj = np.square(obs[1] - exp) / exp # 대전의 카이제곱\r\n",
        "dg = np.square(obs[2] - exp) / exp # 대구의 카이제곱\r\n",
        "bs = np.square(obs[3] - exp) / exp # 부산의 카이제곱\r\n",
        "\r\n",
        "chi = (sl+dj+dg+bs) # 카이제곱의 합\r\n",
        "chi"
      ],
      "execution_count": 107,
      "outputs": [
        {
          "output_type": "execute_result",
          "data": {
            "text/plain": [
              "1564.4572376818994"
            ]
          },
          "metadata": {
            "tags": []
          },
          "execution_count": 107
        }
      ]
    },
    {
      "cell_type": "markdown",
      "metadata": {
        "id": "2vw5JHNhyvRh"
      },
      "source": [
        "## Grading\n",
        "이전 과제를 완료했다면, 아래의 코드를 실행하세요."
      ]
    },
    {
      "cell_type": "code",
      "metadata": {
        "id": "YyFUI6HwqtaH"
      },
      "source": [
        "def grade(df, chi1, chi2, obs, exp, chi2_contingency):\n",
        "  score = 0\n",
        "  score += (df.shape==(4,3)) # 1\n",
        "  score += (df.sum().sum() == 3917) # 1-2\n",
        "  score += (round(chi1.statistic, 3) == 1564.457) # 2\n",
        "  score += (round(chi2[0], 3) == 2064.577) # 3\n",
        "  score += ((obs == [56, 783, 1624, 1454]).sum() == 4) # 4-1\n",
        "  score += (exp == 979.25) # 4-2\n",
        "  score += (round(chi, 3) == 1564.457) # 4-3\n",
        "  return(score)"
      ],
      "execution_count": 82,
      "outputs": []
    },
    {
      "cell_type": "code",
      "metadata": {
        "id": "GPL2ufGWq0L9",
        "colab": {
          "base_uri": "https://localhost:8080/"
        },
        "outputId": "734ff2e2-f8be-48e2-be64-b100f00c0281"
      },
      "source": [
        "grade(df, chi1, chi2, obs, exp, chi)"
      ],
      "execution_count": 94,
      "outputs": [
        {
          "output_type": "execute_result",
          "data": {
            "text/plain": [
              "7"
            ]
          },
          "metadata": {
            "tags": []
          },
          "execution_count": 94
        }
      ]
    },
    {
      "cell_type": "markdown",
      "metadata": {
        "id": "a2BrKHq8m8AS"
      },
      "source": [
        "## 🔥 도전 과제\n",
        "\n",
        "아래 세가지를 다하면 됩니다.\n",
        "\n",
        "### 1. Function\n",
        "\n",
        "4번에서 사용한 one sample chisquare test를 함수의 형태로 변경하세요."
      ]
    },
    {
      "cell_type": "code",
      "metadata": {
        "id": "AntnuAkFm-JQ",
        "colab": {
          "base_uri": "https://localhost:8080/",
          "height": 136
        },
        "outputId": "78a5e44a-4c02-4e11-8af0-e3fd210186b5"
      },
      "source": [
        "v1 = [18,22,20,15,23,22]\n",
        "v2 = [5,23,26,19,24,23]\n",
        "def myChisq(value):\n",
        "\n",
        "# 내용을 채우세요.\n",
        "\n",
        "myChisq(v1) \n",
        "\n",
        "# chisquare값과 pvalue를 출력해야합니다.\n",
        "\n",
        "myChisq(v2)"
      ],
      "execution_count": 66,
      "outputs": [
        {
          "output_type": "error",
          "ename": "IndentationError",
          "evalue": "ignored",
          "traceback": [
            "\u001b[0;36m  File \u001b[0;32m\"<ipython-input-66-14f400c3c5a6>\"\u001b[0;36m, line \u001b[0;32m7\u001b[0m\n\u001b[0;31m    myChisq(v1)\u001b[0m\n\u001b[0m          ^\u001b[0m\n\u001b[0;31mIndentationError\u001b[0m\u001b[0;31m:\u001b[0m expected an indented block\n"
          ]
        }
      ]
    },
    {
      "cell_type": "markdown",
      "metadata": {
        "id": "4ohsJhQUmEuS"
      },
      "source": [
        "### 2. ANOVA\n",
        "\n",
        "아래 링크를 참조하여 ANOVA 에 대한 글을 읽고\n",
        "\n",
        "<https://partrita.github.io/posts/ANOVA-python/>\n",
        "\n",
        "다음 `4개 그룹에 대해서 평균의 차이가 있는지`에 대한 가설 검정을 시행하세요.\n",
        "\n",
        "A : `38 33 35 92 76 97 88 41 11  9`\n",
        "\n",
        "B : `18 52 62 48 30 40 87 12 97 82`\n",
        "\n",
        "C :  `28 90  5 49 66 73 96 80  4 17`\n",
        "\n",
        "D : ` 8 99  4 12  7 64 18 10  9 20`\n",
        "\n"
      ]
    },
    {
      "cell_type": "code",
      "metadata": {
        "id": "DMebi5_4UaSn"
      },
      "source": [
        ""
      ],
      "execution_count": null,
      "outputs": []
    },
    {
      "cell_type": "markdown",
      "metadata": {
        "id": "cWmSdvBy8w4B"
      },
      "source": [
        "## 3. Sign Test\n",
        "\n",
        "아래 링크를 참조하여 Sign Test에 대한 글을 읽고\n",
        "\n",
        "<https://en.wikipedia.org/wiki/Sign_test>\n",
        "\n",
        "다음 데이터에서 두 그룹간에 차이가 있다에 대한 Sign Test의 과정과 결과를 설명하세요\n",
        "\n",
        "|A|B|\n",
        "|:-:|:-:|\n",
        "|142|138|\n",
        "|140|136|\n",
        "|144|147|\t\n",
        "|144|139|\t\n",
        "|142|143|\t\n",
        "|146|141|\t\n",
        "|149|143|\t\n",
        "|150|145|\t\n",
        "|142|136|\t\n",
        "|148|146|\t\n",
        "\n"
      ]
    },
    {
      "cell_type": "code",
      "metadata": {
        "id": "PJcI-oha9Sl9"
      },
      "source": [
        ""
      ],
      "execution_count": null,
      "outputs": []
    }
  ]
}